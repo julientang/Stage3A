{
 "cells": [
  {
   "cell_type": "code",
   "execution_count": 1,
   "metadata": {},
   "outputs": [
    {
     "name": "stdout",
     "output_type": "stream",
     "text": [
      "You are not running in ROOT environment\n"
     ]
    }
   ],
   "source": [
    "import os\n",
    "\n",
    "if \"ROOTSYS\" in os.environ:\n",
    "    print(\"You are running in ROOT environment\")\n",
    "else:\n",
    "    print(\"You are not running in ROOT environment\")"
   ]
  }
 ],
 "metadata": {
  "kernelspec": {
   "display_name": "base",
   "language": "python",
   "name": "python3"
  },
  "language_info": {
   "name": "python",
   "version": "3.10.0"
  },
  "orig_nbformat": 4
 },
 "nbformat": 4,
 "nbformat_minor": 2
}
