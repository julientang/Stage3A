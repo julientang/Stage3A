{
 "cells": [
  {
   "cell_type": "code",
   "execution_count": 1,
   "metadata": {},
   "outputs": [],
   "source": [
    "import numpy as np\n",
    "import pylab\n",
    "import healpy as hp\n",
    "import matplotlib.pyplot as py"
   ]
  },
  {
   "cell_type": "code",
   "execution_count": 2,
   "metadata": {},
   "outputs": [],
   "source": [
    "def D_ell(C_ell):\n",
    "    # Determine the length of the input power spectrum\n",
    "    n_ell = len(C_ell)\n",
    "\n",
    "    # Create an array of zeros to store the scale invariant power spectrum\n",
    "    D_ell = np.zeros(n_ell)\n",
    "\n",
    "    # Compute the scale invariant power spectrum using vectorized operations\n",
    "    # Vectorized operations eliminate the need for a for loop, improving performance\n",
    "\n",
    "    # Compute the product of each element with the next element using np.arange(n_ell) * (np.arange(n_ell) + 1)\n",
    "    # Multiply the above result by C_ell to perform element-wise multiplication with the corresponding elements in C_ell\n",
    "    # Divide the above result by np.pi to perform element-wise division by pi\n",
    "    D_ell = np.arange(n_ell) * (np.arange(n_ell) + 1) * C_ell / np.pi\n",
    "\n",
    "    # Return the computed scale invariant power spectrum\n",
    "    return D_ell"
   ]
  },
  {
   "cell_type": "code",
   "execution_count": 3,
   "metadata": {},
   "outputs": [],
   "source": [
    "amin2rad = np.pi/(60.*180.)"
   ]
  },
  {
   "cell_type": "markdown",
   "metadata": {},
   "source": [
    "# Simulating Sky"
   ]
  },
  {
   "cell_type": "code",
   "execution_count": 4,
   "metadata": {},
   "outputs": [],
   "source": [
    "NSIDE = 512\n",
    "NSIDE_decon = 128\n",
    "lmax = 2*NSIDE\n",
    "lmax_decon = 2*NSIDE_decon\n"
   ]
  },
  {
   "cell_type": "code",
   "execution_count": 5,
   "metadata": {},
   "outputs": [],
   "source": [
    "cl_CMB_th = hp.read_cl(\"/home/julientang2001/Stage3A/Cls_Planck2018_lensed_scalar.fits\")\n",
    "\n",
    "cl_CMB_crop_th = cl_CMB_th[:,:lmax+1]\n",
    "\n",
    "# np.random.seed(0)\n",
    "map_CMB = hp.synfast(cl_CMB_th,nside=NSIDE,new = True)\n",
    "\n",
    "\n",
    "print(map_CMB.shape)\n",
    "cl_CMB6 = hp.anafast(map_CMB,lmax=lmax,alm = False)\n",
    "cl_CMB = cl_CMB6[:4]\n",
    "print(cl_CMB.shape)"
   ]
  },
  {
   "cell_type": "code",
   "execution_count": null,
   "metadata": {},
   "outputs": [],
   "source": [
    "alm_CMB = hp.map2alm(map_CMB,lmax)\n"
   ]
  },
  {
   "cell_type": "markdown",
   "metadata": {},
   "source": [
    "## Compare alm2map with nside_out and ud_grade"
   ]
  },
  {
   "cell_type": "code",
   "execution_count": null,
   "metadata": {},
   "outputs": [],
   "source": [
    "map_CMB_dg1 = hp.alm2map(alm_CMB,nside=NSIDE_decon)\n",
    "map_CMB_dg2 = hp.ud_grade(map_CMB,nside_out=NSIDE_decon)\n",
    "l_arr = np.arange(lmax_decon+1)\n",
    "Cl_CMB1 = hp.anafast(map_CMB_dg1,lmax=lmax_decon)\n",
    "Cl_CMB2 = hp.anafast(map_CMB_dg2,lmax=lmax_decon)\n",
    "Cl_CMB3 = hp.anafast(map_CMB,lmax=lmax)"
   ]
  },
  {
   "cell_type": "code",
   "execution_count": null,
   "metadata": {},
   "outputs": [],
   "source": [
    "print(cl_CMB_crop_th.shape)"
   ]
  },
  {
   "cell_type": "code",
   "execution_count": null,
   "metadata": {},
   "outputs": [],
   "source": [
    "\n",
    "py.plot(l_arr,D_ell(Cl_CMB1[2]),'r',label = 'From map to alm back to map with Nside_out')\n",
    "py.plot(l_arr,D_ell(Cl_CMB2[2]),'b',label = 'Original map degraded to Nside_out')\n",
    "# py.plot(l_arr,hp.anafast(map_CMB,lmax=lmax_decon)[2],'g')\n",
    "py.plot(l_arr,D_ell(Cl_CMB3[2,:lmax_decon+1]),'g',label = 'Original map')\n",
    "py.plot(l_arr,D_ell(cl_CMB_crop_th[2,:lmax_decon+1]),'k',label = 'Theoretical power spectra')\n",
    "py.plot(l_arr,Cl_CMB1[2]/cl_CMB_crop_th[2,:lmax_decon+1],'m--',label = r'$\\frac{red}{green}$')\n",
    "py.grid()\n",
    "py.xlabel(r'$\\ell$')\n",
    "py.ylabel(r'$D_{\\ell}$')\n",
    "py.legend(loc='best')\n",
    "py.yscale('log')"
   ]
  }
 ],
 "metadata": {
  "kernelspec": {
   "display_name": "FGBuster_JT",
   "language": "python",
   "name": "fgbuster_jt"
  },
  "language_info": {
   "codemirror_mode": {
    "name": "ipython",
    "version": 3
   },
   "file_extension": ".py",
   "mimetype": "text/x-python",
   "name": "python",
   "nbconvert_exporter": "python",
   "pygments_lexer": "ipython3",
   "version": "3.11.3"
  }
 },
 "nbformat": 4,
 "nbformat_minor": 4
}
