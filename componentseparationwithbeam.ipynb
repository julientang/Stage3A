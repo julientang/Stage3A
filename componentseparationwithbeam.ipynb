{
 "cells": [
  {
   "attachments": {},
   "cell_type": "markdown",
   "metadata": {},
   "source": [
    "# EXO 2"
   ]
  },
  {
   "cell_type": "code",
   "execution_count": 1,
   "metadata": {},
   "outputs": [],
   "source": [
    "import numpy as np\n",
    "import pylab\n",
    "import healpy as hp\n",
    "import pysm3 \n",
    "import pysm3.units as u\n",
    "import matplotlib.pyplot as py\n",
    "import cmbdb as cmb\n",
    "\n"
   ]
  },
  {
   "cell_type": "code",
   "execution_count": 2,
   "metadata": {},
   "outputs": [],
   "source": [
    "from fgbuster.separation_recipes import harmonic_comp_sep,harmonic_comp_sep_beam,basic_comp_sep,_A_evaluator,_A_evaluator_beam,_r_to_c_alms\n",
    "from fgbuster.mixingmatrix import MixingMatrix"
   ]
  },
  {
   "cell_type": "code",
   "execution_count": 3,
   "metadata": {},
   "outputs": [],
   "source": [
    "from fgbuster import observation_helpers as oh"
   ]
  },
  {
   "cell_type": "code",
   "execution_count": 4,
   "metadata": {},
   "outputs": [],
   "source": [
    "from fgbuster.cosmology import _get_Cl_noise,xForecast, harmonic_xForecast,harmonic_noise_cov"
   ]
  },
  {
   "cell_type": "code",
   "execution_count": 5,
   "metadata": {},
   "outputs": [],
   "source": [
    "from fgbuster.component_model import CMB, Dust, Synchrotron"
   ]
  },
  {
   "attachments": {},
   "cell_type": "markdown",
   "metadata": {},
   "source": [
    "#### $C_{\\ell}$ to $D_{\\ell}=\\frac{\\ell(\\ell+1)}{\\pi}\\times C_{\\ell}$"
   ]
  },
  {
   "cell_type": "code",
   "execution_count": 6,
   "metadata": {},
   "outputs": [],
   "source": [
    "def D_ell(C_ell):\n",
    "    n_ell = len(C_ell)\n",
    "    D_ell = np.zeros(n_ell)\n",
    "    for i in range(n_ell):\n",
    "        D_ell[i] = i*(i+1)*C_ell[i]/np.pi\n",
    "    return(D_ell)"
   ]
  },
  {
   "attachments": {},
   "cell_type": "markdown",
   "metadata": {},
   "source": [
    "# Simulating Sky"
   ]
  },
  {
   "cell_type": "code",
   "execution_count": 7,
   "metadata": {},
   "outputs": [
    {
     "name": "stdout",
     "output_type": "stream",
     "text": [
      "191\n"
     ]
    },
    {
     "name": "stderr",
     "output_type": "stream",
     "text": [
      "OMP: Info #276: omp_set_nested routine deprecated, please use omp_set_max_active_levels instead.\n"
     ]
    }
   ],
   "source": [
    "NSIDE = 64\n",
    "lmax = 3*NSIDE-1\n",
    "print(lmax)\n",
    "# sky_CMB = get_sky(NSIDE,'c1')\n",
    "sky_d0s0 = oh.get_sky(NSIDE, 'd0s0') \n",
    "instrument = oh.get_instrument('LiteBIRD')\n",
    "# freq_maps_CMB = get_observation(instrument, sky_CMB)\n",
    "freq_maps_d0s0 = oh.get_observation(instrument,sky_d0s0)\n",
    "num_freq,ncomp,npix = freq_maps_d0s0.shape\n",
    "\n"
   ]
  },
  {
   "cell_type": "code",
   "execution_count": 8,
   "metadata": {},
   "outputs": [
    {
     "name": "stdout",
     "output_type": "stream",
     "text": [
      "(4, 4001)\n",
      "(4, 192)\n"
     ]
    }
   ],
   "source": [
    "cl_CMB_th = hp.read_cl(\"/home/julientang2001/Stage3A/Cls_Planck2018_lensed_scalar.fits\")\n",
    "print(cl_CMB_th.shape)\n",
    "\n",
    "cl_CMB_crop_th = cl_CMB_th[:,:lmax+1]\n",
    "print(cl_CMB_crop_th.shape)"
   ]
  },
  {
   "cell_type": "code",
   "execution_count": 9,
   "metadata": {},
   "outputs": [
    {
     "name": "stdout",
     "output_type": "stream",
     "text": [
      "(3, 49152)\n"
     ]
    }
   ],
   "source": [
    "np.random.seed(0)\n",
    "map_CMB = hp.synfast(cl_CMB_th,nside=NSIDE,new = True)\n",
    "\n",
    "# hp.mollview(map_CMB[0])\n",
    "\n",
    "\n",
    "print(map_CMB.shape)\n",
    "# # hp.mollview(map_CMB[0], title='Input CMB', sub=(1,3,1))\n",
    "# hp.mollview(map_CMB[1], title='$Q_{CMB,in}$', norm='hist', sub=(1,3,2))\n",
    "# hp.mollview(map_CMB [2], title='$U_{CMB,in}$', norm='hist', sub=(1,3,3))\n",
    "\n"
   ]
  },
  {
   "cell_type": "code",
   "execution_count": 10,
   "metadata": {},
   "outputs": [],
   "source": [
    "alm_CMB_th = hp.map2alm(map_CMB,lmax)"
   ]
  },
  {
   "cell_type": "code",
   "execution_count": 11,
   "metadata": {},
   "outputs": [
    {
     "name": "stdout",
     "output_type": "stream",
     "text": [
      "(3, 18528)\n",
      "(2, 18528)\n"
     ]
    }
   ],
   "source": [
    "print(alm_CMB_th.shape)\n",
    "alm_CMB_th = alm_CMB_th[1:3,:]\n",
    "print(alm_CMB_th.shape)\n"
   ]
  },
  {
   "cell_type": "code",
   "execution_count": 12,
   "metadata": {},
   "outputs": [
    {
     "name": "stdout",
     "output_type": "stream",
     "text": [
      "(4, 192)\n"
     ]
    }
   ],
   "source": [
    "cl_CMB6 = hp.anafast(map_CMB,lmax=lmax,alm = False)\n",
    "cl_CMB = cl_CMB6[:4]\n",
    "print(cl_CMB.shape)"
   ]
  },
  {
   "cell_type": "code",
   "execution_count": 13,
   "metadata": {},
   "outputs": [],
   "source": [
    "# map_CMB_QU = np.zeros((2,npix),dtype=complex)\n",
    "# map_CMB_QU[0] = map_CMB[1]  # Q\n",
    "# map_CMB_QU[1] = map_CMB[2]  # Q\n",
    "# print(map_CMB_QU.shape)"
   ]
  },
  {
   "cell_type": "code",
   "execution_count": 14,
   "metadata": {},
   "outputs": [],
   "source": [
    "freq_maps_simple_noiseless = np.array([np.add(map_CMB,map_d0s0) for map_d0s0 in freq_maps_d0s0])\n",
    "np.random.seed(0)\n",
    "\n",
    "freq_map_noise = oh.get_noise_realization(NSIDE,instrument#,unit = 'uK_CMB'\n",
    "                                       )\n",
    "\n",
    "amin2rad = np.pi/(60.*180.)"
   ]
  },
  {
   "cell_type": "code",
   "execution_count": 15,
   "metadata": {},
   "outputs": [],
   "source": [
    "fwhm = instrument.fwhm*amin2rad\n",
    "freq = instrument.frequency\n",
    "fwhm_common = 80*amin2rad\n"
   ]
  },
  {
   "cell_type": "code",
   "execution_count": 16,
   "metadata": {},
   "outputs": [
    {
     "name": "stdout",
     "output_type": "stream",
     "text": [
      "(3, 18528)\n"
     ]
    }
   ],
   "source": [
    "alms = hp.map2alm(map_CMB)\n",
    "print(alms.shape)"
   ]
  },
  {
   "cell_type": "code",
   "execution_count": 17,
   "metadata": {},
   "outputs": [],
   "source": [
    "ell = hp.Alm.getlm(lmax, np.arange(alms.shape[-1]))[0]\n",
    "ell = np.stack((ell, ell), axis=-1).reshape(-1) "
   ]
  },
  {
   "cell_type": "code",
   "execution_count": 18,
   "metadata": {},
   "outputs": [],
   "source": [
    "beam_array = np.array([hp.gauss_beam(f,lmax, pol=True) for f in instrument.fwhm*np.pi/(60.*180.)])\n",
    "# beam_array = beam_array[:,:,1:3] ## Only keeping polarization so E & B modes \n",
    "num_freq, num_l, num_stokes = beam_array.shape\n",
    "beam_array_lm1 = beam_array[:,ell,:]\n",
    "beam_array_lm2 = np.array([beam_array[:,l,:] for l in ell])"
   ]
  },
  {
   "cell_type": "code",
   "execution_count": 19,
   "metadata": {},
   "outputs": [],
   "source": [
    "beam_array_lm1 = np.transpose(beam_array_lm1,(1,0,2))"
   ]
  },
  {
   "cell_type": "code",
   "execution_count": 20,
   "metadata": {},
   "outputs": [
    {
     "name": "stdout",
     "output_type": "stream",
     "text": [
      "(37056, 15, 4)\n"
     ]
    }
   ],
   "source": [
    "print(beam_array_lm2.shape)"
   ]
  },
  {
   "cell_type": "code",
   "execution_count": 21,
   "metadata": {},
   "outputs": [
    {
     "name": "stdout",
     "output_type": "stream",
     "text": [
      "[[[ True  True  True  True]\n",
      "  [ True  True  True  True]\n",
      "  [ True  True  True  True]\n",
      "  ...\n",
      "  [ True  True  True  True]\n",
      "  [ True  True  True  True]\n",
      "  [ True  True  True  True]]\n",
      "\n",
      " [[ True  True  True  True]\n",
      "  [ True  True  True  True]\n",
      "  [ True  True  True  True]\n",
      "  ...\n",
      "  [ True  True  True  True]\n",
      "  [ True  True  True  True]\n",
      "  [ True  True  True  True]]\n",
      "\n",
      " [[ True  True  True  True]\n",
      "  [ True  True  True  True]\n",
      "  [ True  True  True  True]\n",
      "  ...\n",
      "  [ True  True  True  True]\n",
      "  [ True  True  True  True]\n",
      "  [ True  True  True  True]]\n",
      "\n",
      " ...\n",
      "\n",
      " [[ True  True  True  True]\n",
      "  [ True  True  True  True]\n",
      "  [ True  True  True  True]\n",
      "  ...\n",
      "  [ True  True  True  True]\n",
      "  [ True  True  True  True]\n",
      "  [ True  True  True  True]]\n",
      "\n",
      " [[ True  True  True  True]\n",
      "  [ True  True  True  True]\n",
      "  [ True  True  True  True]\n",
      "  ...\n",
      "  [ True  True  True  True]\n",
      "  [ True  True  True  True]\n",
      "  [ True  True  True  True]]\n",
      "\n",
      " [[ True  True  True  True]\n",
      "  [ True  True  True  True]\n",
      "  [ True  True  True  True]\n",
      "  ...\n",
      "  [ True  True  True  True]\n",
      "  [ True  True  True  True]\n",
      "  [ True  True  True  True]]]\n"
     ]
    }
   ],
   "source": [
    "diff_beam = beam_array_lm1-beam_array_lm2\n",
    "# print(diff_beam==np.zeros(diff_beam.shape))\n",
    "print(beam_array_lm1==beam_array_lm2)"
   ]
  },
  {
   "cell_type": "code",
   "execution_count": 22,
   "metadata": {},
   "outputs": [],
   "source": [
    "# beam_diag_lm1 = np.array([[np.diag(beam_array_lm1[:,i,j]) for i in range(0,np.size(ell))]for j in range(0,num_stokes)])\n",
    "# beam_diag_lm1 = np.transpose(beam_diag_lm1, (1, 0, 2, 3))"
   ]
  },
  {
   "cell_type": "code",
   "execution_count": 23,
   "metadata": {},
   "outputs": [
    {
     "name": "stdout",
     "output_type": "stream",
     "text": [
      "(37056, 4, 15, 15)\n"
     ]
    }
   ],
   "source": [
    "beam_diag_lm2 = np.array([[np.diag(beam_array_lm2[i,:,j]) for i in range(0,np.size(ell))]for j in range(0,num_stokes)])\n",
    "beam_diag_lm2 = np.transpose(beam_diag_lm2, (1, 0, 2, 3))\n",
    "# print(r'beam_array[0,ell,:] has shape' + str(beam_array_lm1.shape))\n",
    "# print(r'np.array([beam_array[:,l,:] for l in ell] has shape' + str(beam_array_lm2.shape))\n",
    "\n",
    "# print(beam_diag_lm2.shape)\n",
    "# diff_beam = beam_array_lm1-beam_array_lm2\n",
    "# print(diff_beam)\n",
    "print(beam_diag_lm2.shape)"
   ]
  },
  {
   "attachments": {},
   "cell_type": "markdown",
   "metadata": {},
   "source": [
    "## Beam (check with hp.smoothing)"
   ]
  },
  {
   "cell_type": "code",
   "execution_count": 24,
   "metadata": {},
   "outputs": [
    {
     "name": "stdout",
     "output_type": "stream",
     "text": [
      "(15, 192, 4)\n",
      "(15, 192, 4)\n",
      "(3, 49152) (192, 4)\n"
     ]
    }
   ],
   "source": [
    "beam_array = np.array([hp.gauss_beam(f,lmax = lmax, pol=True) for f in fwhm])\n",
    "print(beam_array.shape)\n",
    "inv_beam_arr = 1/beam_array\n",
    "fwhm_common = 80*amin2rad\n",
    "beam_common = hp.gauss_beam(fwhm_common,lmax = lmax, pol = True)\n",
    "b_c = np.array([beam_common*beam_inv for beam_inv in inv_beam_arr])\n",
    "print(b_c.shape)\n",
    "print(map_CMB.shape,beam_common.shape)"
   ]
  },
  {
   "cell_type": "code",
   "execution_count": 25,
   "metadata": {},
   "outputs": [],
   "source": [
    "# map_CMB_smooth = np.array([hp.smoothing(map_CMB[j,:],beam_window=beam_common[:,j]) for j in range(0,ncomp)])\n",
    "# print(map_CMB_smooth.shape)\n"
   ]
  },
  {
   "cell_type": "code",
   "execution_count": 26,
   "metadata": {},
   "outputs": [],
   "source": [
    "# map_CMB_smooth_QU = np.zeros((2,npix))\n",
    "# map_CMB_smooth_QU[0]=map_CMB_smooth[1]   \n",
    "# map_CMB_smooth_QU[1]=map_CMB_smooth[2]\n",
    "# print(map_CMB_smooth_QU.shape)\n",
    "# print(freq_maps_simple_noiseless[0,0].shape)\n",
    "# print(beam_array[0,0].shape)"
   ]
  },
  {
   "attachments": {},
   "cell_type": "markdown",
   "metadata": {},
   "source": [
    "## $(B \\ast As)_p$"
   ]
  },
  {
   "cell_type": "code",
   "execution_count": 27,
   "metadata": {},
   "outputs": [
    {
     "name": "stdout",
     "output_type": "stream",
     "text": [
      "(15, 3, 49152)\n"
     ]
    }
   ],
   "source": [
    "BAS_p_nl_smooth = np.array([np.array([hp.smoothing(freq_maps_simple_noiseless[i,j],beam_window=beam_array[i,:,j]) for j in range(0,ncomp) ]) for i in range(0,num_freq)])\n",
    "print(BAS_p_nl_smooth.shape)"
   ]
  },
  {
   "attachments": {},
   "cell_type": "markdown",
   "metadata": {},
   "source": [
    "## $(B^{\\nu}  \\ast A^{\\nu} s+n)_p$"
   ]
  },
  {
   "cell_type": "code",
   "execution_count": 28,
   "metadata": {},
   "outputs": [],
   "source": [
    "BAS_p = np.add(BAS_p_nl_smooth,freq_map_noise)"
   ]
  },
  {
   "cell_type": "code",
   "execution_count": 29,
   "metadata": {},
   "outputs": [
    {
     "name": "stdout",
     "output_type": "stream",
     "text": [
      "(15, 3, 49152)\n"
     ]
    }
   ],
   "source": [
    "print(BAS_p.shape)"
   ]
  },
  {
   "attachments": {},
   "cell_type": "markdown",
   "metadata": {},
   "source": [
    "## $\\frac{1}{B^{\\nu}}(B^{\\nu}  \\ast A^{\\nu} s+n)_p$\n",
    "## $\\frac{B^{c}}{B^{\\nu}}(B^{\\nu}  \\ast A^{\\nu} s+n)_p$"
   ]
  },
  {
   "cell_type": "code",
   "execution_count": 30,
   "metadata": {},
   "outputs": [],
   "source": [
    "# AS_p_inv = np.array([np.array([hp.smoothing(BAS_p[i,j],beam_window=inv_beam_arr[i,:,j]) for j in range(0,ncomp) ]) for i in range(0,num_freq)])\n",
    "\n",
    "AS_p_ren = np.array([np.array([hp.smoothing(BAS_p[i,j],beam_window=b_c[i,:,j]) for j in range(0,ncomp) ]) for i in range(0,num_freq)])"
   ]
  },
  {
   "attachments": {},
   "cell_type": "markdown",
   "metadata": {},
   "source": [
    "#### $As+n$"
   ]
  },
  {
   "cell_type": "code",
   "execution_count": 31,
   "metadata": {},
   "outputs": [
    {
     "name": "stdout",
     "output_type": "stream",
     "text": [
      "(15, 3, 49152)\n"
     ]
    }
   ],
   "source": [
    "As_p = freq_map_noise+freq_maps_simple_noiseless\n",
    "print(As_p.shape)"
   ]
  },
  {
   "cell_type": "code",
   "execution_count": 32,
   "metadata": {},
   "outputs": [
    {
     "name": "stdout",
     "output_type": "stream",
     "text": [
      "(192, 4)\n"
     ]
    }
   ],
   "source": [
    "print(beam_common.shape)"
   ]
  },
  {
   "attachments": {},
   "cell_type": "markdown",
   "metadata": {},
   "source": [
    "#### $B^c As+n$"
   ]
  },
  {
   "cell_type": "code",
   "execution_count": 33,
   "metadata": {},
   "outputs": [],
   "source": [
    "BcAs_p =  np.array([np.array([hp.smoothing(freq_maps_simple_noiseless[i,j],beam_window=beam_common[:,j]) for j in range(0,ncomp) ]) for i in range(0,num_freq)])\n"
   ]
  },
  {
   "cell_type": "code",
   "execution_count": 34,
   "metadata": {},
   "outputs": [
    {
     "name": "stdout",
     "output_type": "stream",
     "text": [
      "(15, 3, 49152)\n"
     ]
    }
   ],
   "source": [
    "print(BcAs_p.shape)"
   ]
  },
  {
   "attachments": {},
   "cell_type": "markdown",
   "metadata": {},
   "source": [
    "### Deconvolved and renormalized only in $(Q,U)$"
   ]
  },
  {
   "cell_type": "code",
   "execution_count": 35,
   "metadata": {},
   "outputs": [],
   "source": [
    "# AS1_QU_p = np.zeros((num_freq,2,npix))\n",
    "# AS1_QU_p[:,0,:]=AS_p_inv[:,1,:]\n",
    "# AS1_QU_p[:,1,:]=AS_p_inv[:,2,:]\n",
    "# print(AS1_QU_p.shape)\n",
    "# AS2_QU_p = np.zeros((num_freq,2,npix))\n",
    "# AS2_QU_p[:,0,:]=AS_p_ren[:,1,:]\n",
    "# AS2_QU_p[:,1,:]=AS_p_ren[:,2,:]\n",
    "# print(AS2_QU_p.shape)"
   ]
  },
  {
   "attachments": {},
   "cell_type": "markdown",
   "metadata": {},
   "source": [
    "## Component separation"
   ]
  },
  {
   "cell_type": "code",
   "execution_count": 36,
   "metadata": {},
   "outputs": [],
   "source": [
    "components = [CMB(), Dust(353.), Synchrotron(23.)]\n",
    "# The starting point of the fit is the ax1sm default value, so let's shift it\n",
    "components[1].defaults = [1.54, 20.]\n",
    "components[2].defaults = [-3.0]"
   ]
  },
  {
   "attachments": {},
   "cell_type": "markdown",
   "metadata": {},
   "source": [
    "### Mixing matrix evaluator"
   ]
  },
  {
   "cell_type": "code",
   "execution_count": 37,
   "metadata": {},
   "outputs": [],
   "source": [
    "A = MixingMatrix(*components)\n",
    "A_ev = A.evaluator(instrument.frequency)\n",
    "i_cmb = A.components.index('CMB')"
   ]
  },
  {
   "cell_type": "code",
   "execution_count": 38,
   "metadata": {},
   "outputs": [],
   "source": [
    "# print(freq_maps_simple_noiseless.shape)\n",
    "# print(freq_map_noise.shape)"
   ]
  },
  {
   "attachments": {},
   "cell_type": "markdown",
   "metadata": {},
   "source": [
    "#### Test of harmonic comp sep with beamless maps"
   ]
  },
  {
   "cell_type": "code",
   "execution_count": 39,
   "metadata": {},
   "outputs": [],
   "source": [
    "# ASn_p = freq_maps_simple_noiseless+freq_map_noise\n",
    "# print(ASn_p.shape)\n",
    "# result_no_beam= harmonic_comp_sep(components, instrument, ASn_p,NSIDE,lmax # verbose output                        \n",
    "#                        )"
   ]
  },
  {
   "attachments": {},
   "cell_type": "markdown",
   "metadata": {},
   "source": [
    "#### Test of harmonic comp sep with beamed maps"
   ]
  },
  {
   "cell_type": "code",
   "execution_count": 40,
   "metadata": {},
   "outputs": [
    {
     "name": "stdout",
     "output_type": "stream",
     "text": [
      "0     0.023271\n",
      "1     0.023271\n",
      "2     0.023271\n",
      "3     0.023271\n",
      "4     0.023271\n",
      "5     0.023271\n",
      "6     0.023271\n",
      "7     0.023271\n",
      "8     0.023271\n",
      "9     0.023271\n",
      "10    0.023271\n",
      "11    0.023271\n",
      "12    0.023271\n",
      "13    0.023271\n",
      "14    0.023271\n",
      "Name: fwhm, dtype: float64\n"
     ]
    }
   ],
   "source": [
    "instrument_common = oh.get_instrument('LiteBIRD')\n",
    "instrument_common.fwhm = [fwhm_common for fwhm in instrument_common.fwhm]\n",
    "print(instrument_common.fwhm)"
   ]
  },
  {
   "cell_type": "code",
   "execution_count": 41,
   "metadata": {},
   "outputs": [
    {
     "name": "stdout",
     "output_type": "stream",
     "text": [
      "0     0\n",
      "1     0\n",
      "2     0\n",
      "3     0\n",
      "4     0\n",
      "5     0\n",
      "6     0\n",
      "7     0\n",
      "8     0\n",
      "9     0\n",
      "10    0\n",
      "11    0\n",
      "12    0\n",
      "13    0\n",
      "14    0\n",
      "Name: fwhm, dtype: int64\n"
     ]
    }
   ],
   "source": [
    "instrument_null = oh.get_instrument('LiteBIRD')\n",
    "instrument_null.fwhm = [0 for fwhm in instrument_null.fwhm]\n",
    "print(instrument_null.fwhm)"
   ]
  },
  {
   "cell_type": "code",
   "execution_count": 42,
   "metadata": {},
   "outputs": [],
   "source": [
    "\n",
    "# result_no_beam_beam= harmonic_comp_sep_beam(components, instrument2, ASn_p,NSIDE,lmax # verbose output                        \n",
    "#                        )"
   ]
  },
  {
   "attachments": {},
   "cell_type": "markdown",
   "metadata": {},
   "source": [
    "###  Retrieving estimated parameters"
   ]
  },
  {
   "cell_type": "code",
   "execution_count": 43,
   "metadata": {},
   "outputs": [],
   "source": [
    "# inputs = [sky_d0s0.components[0].mbb_index,\n",
    "#           sky_d0s0.components[0].mbb_temperature.value,\n",
    "#           sky_d0s0.components[1].pl_index]\n",
    "\n",
    "# print('No beam : Harmonic component separation')\n",
    "# print(\"%-20s\\t%s\\t%s\" % ('', 'Estimated', 'Input'))\n",
    "\n",
    "# for param, val, ref in zip(result_no_beam.params, result_no_beam.x, inputs):\n",
    "#     print(\"%-20s\\t%f\\t%f\" % (param, val, ref))\n",
    "\n",
    "\n",
    "# print('No beam : Harmonic component separation with beam')\n",
    "# print(\"%-20s\\t%s\\t%s\" % ('', 'Estimated', 'Input'))\n",
    "\n",
    "# for param, val, ref in zip(result_no_beam_beam.params, result_no_beam_beam.x, inputs):\n",
    "#     print(\"%-20s\\t%f\\t%f\" % (param, val, ref))"
   ]
  },
  {
   "attachments": {},
   "cell_type": "markdown",
   "metadata": {},
   "source": [
    "### Harmonic comp sep with beam and renormalized maps"
   ]
  },
  {
   "cell_type": "code",
   "execution_count": 44,
   "metadata": {},
   "outputs": [],
   "source": [
    "\n",
    "# result_harmo_beam_ren= harmonic_comp_sep(components, instrument, AS_p_ren,NSIDE,lmax # verbose output                        \n",
    "#                        )\n",
    "# inputs = [sky_d0s0.components[0].mbb_index,\n",
    "#           sky_d0s0.components[0].mbb_temperature.value,\n",
    "#           sky_d0s0.components[1].pl_index]\n",
    "\n",
    "# print('Harmonic component separation')\n",
    "# print(\"%-20s\\t%s\\t%s\" % ('', 'Estimated', 'Input'))\n",
    "\n",
    "# for param, val, ref in zip(result_harmo_beam_ren.params, result_harmo_beam_ren.x, inputs):\n",
    "#     print(\"%-20s\\t%f\\t%f\" % (param, val, ref))\n",
    "\n",
    "\n"
   ]
  },
  {
   "attachments": {},
   "cell_type": "markdown",
   "metadata": {},
   "source": [
    "# Harmonic component separation with beam, input are beamed maps"
   ]
  },
  {
   "cell_type": "code",
   "execution_count": 45,
   "metadata": {},
   "outputs": [
    {
     "name": "stdout",
     "output_type": "stream",
     "text": [
      "Computing alms\n"
     ]
    },
    {
     "name": "stderr",
     "output_type": "stream",
     "text": [
      "/home/julientang2001/fgbuster/fgbuster/mixingmatrix.py:187: FutureWarning: Support for multi-dimensional indexing (e.g. `obj[:, None]`) is deprecated and will be removed in a future version.  Convert to a numpy array before indexing instead.\n",
      "  res += [g[..., np.newaxis]\n",
      "/home/julientang2001/fgbuster/fgbuster/mixingmatrix.py:187: FutureWarning: Support for multi-dimensional indexing (e.g. `obj[:, None]`) is deprecated and will be removed in a future version.  Convert to a numpy array before indexing instead.\n",
      "  res += [g[..., np.newaxis]\n",
      "/home/julientang2001/fgbuster/fgbuster/mixingmatrix.py:187: FutureWarning: Support for multi-dimensional indexing (e.g. `obj[:, None]`) is deprecated and will be removed in a future version.  Convert to a numpy array before indexing instead.\n",
      "  res += [g[..., np.newaxis]\n",
      "/home/julientang2001/fgbuster/fgbuster/algebra.py:1079: RuntimeWarning: invalid value encountered in divide\n",
      "  res.chi_dB.append(np.sum(res.chi * As_dB_i, -1)\n"
     ]
    }
   ],
   "source": [
    "\n",
    "result_no_beam= harmonic_comp_sep(components, instrument, AS_p_ren,NSIDE,lmax # verbose output                        \n",
    "                       )"
   ]
  },
  {
   "cell_type": "code",
   "execution_count": 46,
   "metadata": {},
   "outputs": [
    {
     "name": "stdout",
     "output_type": "stream",
     "text": [
      "Computing alms\n"
     ]
    },
    {
     "name": "stderr",
     "output_type": "stream",
     "text": [
      "/home/julientang2001/fgbuster/fgbuster/mixingmatrix.py:187: FutureWarning: Support for multi-dimensional indexing (e.g. `obj[:, None]`) is deprecated and will be removed in a future version.  Convert to a numpy array before indexing instead.\n",
      "  res += [g[..., np.newaxis]\n",
      "/home/julientang2001/fgbuster/fgbuster/mixingmatrix.py:187: FutureWarning: Support for multi-dimensional indexing (e.g. `obj[:, None]`) is deprecated and will be removed in a future version.  Convert to a numpy array before indexing instead.\n",
      "  res += [g[..., np.newaxis]\n",
      "/home/julientang2001/fgbuster/fgbuster/mixingmatrix.py:187: FutureWarning: Support for multi-dimensional indexing (e.g. `obj[:, None]`) is deprecated and will be removed in a future version.  Convert to a numpy array before indexing instead.\n",
      "  res += [g[..., np.newaxis]\n",
      "/home/julientang2001/fgbuster/fgbuster/mixingmatrix.py:187: FutureWarning: Support for multi-dimensional indexing (e.g. `obj[:, None]`) is deprecated and will be removed in a future version.  Convert to a numpy array before indexing instead.\n",
      "  res += [g[..., np.newaxis]\n",
      "/home/julientang2001/fgbuster/fgbuster/mixingmatrix.py:187: FutureWarning: Support for multi-dimensional indexing (e.g. `obj[:, None]`) is deprecated and will be removed in a future version.  Convert to a numpy array before indexing instead.\n",
      "  res += [g[..., np.newaxis]\n",
      "/home/julientang2001/fgbuster/fgbuster/mixingmatrix.py:187: FutureWarning: Support for multi-dimensional indexing (e.g. `obj[:, None]`) is deprecated and will be removed in a future version.  Convert to a numpy array before indexing instead.\n",
      "  res += [g[..., np.newaxis]\n",
      "/home/julientang2001/fgbuster/fgbuster/algebra.py:1079: RuntimeWarning: invalid value encountered in divide\n",
      "  res.chi_dB.append(np.sum(res.chi * As_dB_i, -1)\n"
     ]
    }
   ],
   "source": [
    "\n",
    "\n",
    "\n",
    "result_no_beam_BAS= harmonic_comp_sep(components, instrument, BAS_p,NSIDE,lmax # verbose output                        \n",
    "                       )\n",
    "\n",
    "\n"
   ]
  },
  {
   "cell_type": "code",
   "execution_count": 47,
   "metadata": {},
   "outputs": [
    {
     "name": "stdout",
     "output_type": "stream",
     "text": [
      "Computing alms\n"
     ]
    },
    {
     "name": "stderr",
     "output_type": "stream",
     "text": [
      "/home/julientang2001/fgbuster/fgbuster/mixingmatrix.py:198: FutureWarning: Support for multi-dimensional indexing (e.g. `obj[:, None]`) is deprecated and will be removed in a future version.  Convert to a numpy array before indexing instead.\n",
      "  res += [g[..., np.newaxis]\n"
     ]
    },
    {
     "name": "stdout",
     "output_type": "stream",
     "text": [
      "['Dust.beta_d', 'Dust.temp', 'Synchrotron.beta_pl']\n"
     ]
    },
    {
     "name": "stderr",
     "output_type": "stream",
     "text": [
      "/home/julientang2001/fgbuster/fgbuster/algebra.py:1079: RuntimeWarning: invalid value encountered in divide\n",
      "  res.chi_dB.append(np.sum(res.chi * As_dB_i, -1)\n"
     ]
    }
   ],
   "source": [
    "result_beam= harmonic_comp_sep_beam(components, instrument, BAS_p,NSIDE,lmax # verbose output                        \n",
    "                       )\n",
    "print(result_beam.params)"
   ]
  },
  {
   "cell_type": "code",
   "execution_count": 48,
   "metadata": {},
   "outputs": [
    {
     "name": "stdout",
     "output_type": "stream",
     "text": [
      "(3, 2, 18528)\n",
      "(15, 3)\n",
      "Harmonic & beam component separation\n",
      "                    \tEstimated\tInput\n",
      "Dust.beta_d         \t1.544822\t1.540000\n",
      "Dust.temp           \t19.852110\t20.000000\n",
      "Synchrotron.beta_pl \t-3.026368\t-3.000000\n",
      "                    \tEstimated\tInput\n",
      "Dust.beta_d         \t1.543251\t1.540000\n",
      "Dust.temp           \t19.902010\t20.000000\n",
      "Synchrotron.beta_pl \t-3.016364\t-3.000000\n"
     ]
    }
   ],
   "source": [
    "print(result_beam.s.shape)\n",
    "A_beam = A_ev(result_beam.x)\n",
    "A_no_beam = A_ev(result_no_beam.x)\n",
    "\n",
    "print(A_beam.shape)\n",
    "inputs = [sky_d0s0.components[0].mbb_index,\n",
    "          sky_d0s0.components[0].mbb_temperature.value,\n",
    "          sky_d0s0.components[1].pl_index]\n",
    "print('Harmonic & beam component separation')\n",
    "\n",
    "print(\"%-20s\\t%s\\t%s\" % ('', 'Estimated', 'Input'))\n",
    "\n",
    "for param, val, ref in zip(result_beam.params, result_beam.x, inputs):\n",
    "    print(\"%-20s\\t%f\\t%f\" % (param, val, ref))\n",
    "\n",
    "print(\"%-20s\\t%s\\t%s\" % ('', 'Estimated', 'Input'))\n",
    "for param, val, ref in zip(result_no_beam.params, result_no_beam.x, inputs):\n",
    "    print(\"%-20s\\t%f\\t%f\" % (param, val, ref))"
   ]
  },
  {
   "cell_type": "code",
   "execution_count": 49,
   "metadata": {},
   "outputs": [
    {
     "name": "stdout",
     "output_type": "stream",
     "text": [
      "(15, 3)\n",
      "Harmonic & beam component separation\n",
      "                    \tEstimated\tInput\n",
      "Dust.beta_d         \t1.539124\t1.540000\n",
      "Dust.temp           \t20.146111\t20.000000\n",
      "Synchrotron.beta_pl \t-3.004724\t-3.000000\n"
     ]
    }
   ],
   "source": [
    "\n",
    "A_no_beam_BAS = A_ev(result_no_beam_BAS.x)\n",
    "\n",
    "print(A_no_beam_BAS.shape)\n",
    "inputs = [sky_d0s0.components[0].mbb_index,\n",
    "          sky_d0s0.components[0].mbb_temperature.value,\n",
    "          sky_d0s0.components[1].pl_index]\n",
    "print('Harmonic & beam component separation')\n",
    "\n",
    "\n",
    "\n",
    "print(\"%-20s\\t%s\\t%s\" % ('', 'Estimated', 'Input'))\n",
    "for param, val, ref in zip(result_no_beam_BAS.params, result_no_beam_BAS.x, inputs):\n",
    "    print(\"%-20s\\t%f\\t%f\" % (param, val, ref))"
   ]
  },
  {
   "attachments": {},
   "cell_type": "markdown",
   "metadata": {},
   "source": [
    "### Get noise"
   ]
  },
  {
   "cell_type": "code",
   "execution_count": 50,
   "metadata": {},
   "outputs": [],
   "source": [
    "def _get_Cl_noise_nofwhm(instrument,beam, A, lmax):\n",
    "    nl = (beam / np.radians(instrument.depth_p/60.)[:, np.newaxis])**2\n",
    "    AtNA = np.einsum('fi, fl, fj -> lij', A, nl, A)\n",
    "    inv_AtNA = np.linalg.inv(AtNA)\n",
    "    return inv_AtNA.swapaxes(-3, -1)"
   ]
  },
  {
   "cell_type": "code",
   "execution_count": 51,
   "metadata": {},
   "outputs": [],
   "source": [
    "beam_null = np.ones((len(instrument.frequency), lmax+1))\n"
   ]
  },
  {
   "cell_type": "code",
   "execution_count": 52,
   "metadata": {},
   "outputs": [
    {
     "name": "stderr",
     "output_type": "stream",
     "text": [
      "/tmp/ipykernel_2428/1937513622.py:2: FutureWarning: Support for multi-dimensional indexing (e.g. `obj[:, None]`) is deprecated and will be removed in a future version.  Convert to a numpy array before indexing instead.\n",
      "  nl = (beam / np.radians(instrument.depth_p/60.)[:, np.newaxis])**2\n"
     ]
    }
   ],
   "source": [
    "\n",
    "# cl_noise_beam =_get_Cl_noise_nofwhm(instrument=instrument,beam = inv_beam_arr[:,:,0] ,A = A_beam,lmax=lmax)[i_cmb, i_cmb, :]\n",
    "# cl_noise_no_beam =_get_Cl_noise_nofwhm(instrument=instrument,beam = inv_beam_arr[:,:,0] ,A = A_beam,lmax=lmax)[i_cmb, i_cmb, :]\n",
    "\n",
    "\n",
    "cl_noise_beam =_get_Cl_noise_nofwhm(instrument,beam_null, A_beam,lmax)[i_cmb, i_cmb, :]\n",
    "\n",
    "cl_noise_no_beam =_get_Cl_noise_nofwhm(instrument,beam_null, A_no_beam,lmax)[i_cmb, i_cmb, :]\n",
    "\n",
    "\n"
   ]
  },
  {
   "cell_type": "code",
   "execution_count": 53,
   "metadata": {},
   "outputs": [
    {
     "name": "stdout",
     "output_type": "stream",
     "text": [
      "(192,)\n"
     ]
    }
   ],
   "source": [
    "print(cl_noise_beam.shape)"
   ]
  },
  {
   "cell_type": "code",
   "execution_count": 54,
   "metadata": {},
   "outputs": [
    {
     "name": "stderr",
     "output_type": "stream",
     "text": [
      "/home/julientang2001/fgbuster/fgbuster/cosmology.py:742: FutureWarning: Support for multi-dimensional indexing (e.g. `obj[:, None]`) is deprecated and will be removed in a future version.  Convert to a numpy array before indexing instead.\n",
      "  nl = (bl / np.radians(instrument.depth_p/60.)[:, np.newaxis])**2\n"
     ]
    }
   ],
   "source": [
    "cl_noise_no_beam_BAS =_get_Cl_noise(instrument,A_no_beam_BAS,lmax)[i_cmb, i_cmb, :]\n"
   ]
  },
  {
   "attachments": {},
   "cell_type": "markdown",
   "metadata": {},
   "source": [
    "### Harmonic component separation returns Component amplitude alms"
   ]
  },
  {
   "cell_type": "code",
   "execution_count": 55,
   "metadata": {},
   "outputs": [
    {
     "data": {
      "text/plain": [
       "(3, 2, 18528)"
      ]
     },
     "execution_count": 55,
     "metadata": {},
     "output_type": "execute_result"
    }
   ],
   "source": [
    "result_beam_alm_r = result_beam.s\n",
    "result_beam_alm = _r_to_c_alms(result_beam_alm_r)\n",
    "result_beam_alm.shape\n",
    "# best_fit_maps_beam = np.array([hp.alm2map(result_beam_alm[:,i,:],NSIDE,lmax) for i in range(2)])\n",
    "# best_fit_maps_beam = np.transpose(best_fit_maps_beam,(1,0,2))\n",
    "# print(best_fit_maps_beam.shape)"
   ]
  },
  {
   "cell_type": "code",
   "execution_count": 56,
   "metadata": {},
   "outputs": [],
   "source": [
    "# print(result_beam_alm_r.shape)\n",
    "# print(result_beam_alm_r.dtype)\n",
    "# print(result_beam_alm.dtype)\n",
    "# print(result_beam_alm_r-result_beam_alm)\n",
    "# print(result_beam.fsky)"
   ]
  },
  {
   "cell_type": "code",
   "execution_count": 57,
   "metadata": {},
   "outputs": [],
   "source": [
    "result_no_beam_alm_r = result_no_beam.s\n",
    "result_no_beam_alm = _r_to_c_alms(result_no_beam_alm_r)\n",
    "# result_no_beam_alm.shape\n",
    "# best_fit_maps_no_beam = np.array([hp.alm2map(result_no_beam_alm[:,i,:],NSIDE,lmax) for i in range(2)])\n",
    "# best_fit_maps_no_beam = np.transpose(best_fit_maps_no_beam,(1,0,2))\n",
    "# print(best_fit_maps_no_beam.shape)"
   ]
  },
  {
   "cell_type": "code",
   "execution_count": 58,
   "metadata": {},
   "outputs": [],
   "source": [
    "result_no_beam_BAS_alm_r = result_no_beam_BAS.s\n",
    "result_no_beam_BAS_alm = _r_to_c_alms(result_no_beam_BAS_alm_r)"
   ]
  },
  {
   "cell_type": "code",
   "execution_count": 59,
   "metadata": {},
   "outputs": [],
   "source": [
    "# hp.mollview(best_fit_maps_beam[0,1], title='CMB', sub=(1,3,1))\n",
    "# hp.mollview(best_fit_maps_beam[1,1], title='Dust', norm='hist', sub=(1,3,2))\n",
    "# hp.mollview(best_fit_maps_beam[2,1], title='Synchrotron', norm='hist', sub=(1,3,3))\n",
    "\n",
    "\n",
    "# hp.mollview(best_fit_maps_no_beam[0,1], title='CMB', sub=(1,3,1))\n",
    "# hp.mollview(best_fit_maps_no_beam[1,1], title='Dust', norm='hist', sub=(1,3,2))\n",
    "# hp.mollview(best_fit_maps_no_beam[2,1], title='Synchrotron', norm='hist', sub=(1,3,3))\n",
    "# map_diff_bnb = best_fit_maps_beam-best_fit_maps_no_beam\n",
    "# hp.mollview(map_diff_bnb[0,1], title='CMB', sub=(1,3,1))\n",
    "# hp.mollview(map_diff_bnb[1,1], title='Dust', norm='hist', sub=(1,3,2))\n",
    "# hp.mollview(map_diff_bnb[2,1], title='Synchrotron', norm='hist', sub=(1,3,3))"
   ]
  },
  {
   "attachments": {},
   "cell_type": "markdown",
   "metadata": {},
   "source": [
    "# Residuals"
   ]
  },
  {
   "cell_type": "code",
   "execution_count": 60,
   "metadata": {},
   "outputs": [],
   "source": [
    "# res_CMB_Q_b = np.subtract(best_fit_maps_beam[0,0], map_CMB_QU[0])#noisy\n",
    "# res_CMB_U_b = np.subtract(best_fit_maps_beam[0,1], map_CMB_QU[1])\n",
    "\n",
    "# print(res_CMB_Q_b.shape,res_CMB_U_b.shape)\n",
    "# res_CMB_Q_nb = np.subtract(best_fit_maps_no_beam[0,0], map_CMB_QU[0])#noisy\n",
    "# res_CMB_U_nb = np.subtract(best_fit_maps_no_beam[0,1], map_CMB_QU[1])\n",
    "\n",
    "# print(res_CMB_Q_nb.shape,res_CMB_U_nb.shape)\n",
    "# res_CMB_b= np.zeros((3,npix),dtype=complex)\n",
    "# res_CMB_b[1] = res_CMB_Q_b\n",
    "# res_CMB_b[2] = res_CMB_U_b\n",
    "# print(res_CMB_b.shape)\n",
    "# res_CMB_nb= np.zeros((3,npix),dtype=complex)\n",
    "# res_CMB_nb[1] = res_CMB_Q_nb\n",
    "# res_CMB_nb[2] = res_CMB_U_nb\n",
    "# print(res_CMB_nb.shape)"
   ]
  },
  {
   "attachments": {},
   "cell_type": "markdown",
   "metadata": {},
   "source": [
    "#### Computing $C_{\\ell}^{res}$"
   ]
  },
  {
   "cell_type": "code",
   "execution_count": 61,
   "metadata": {},
   "outputs": [],
   "source": [
    "# Cl1_res_CMB_b=hp.anafast(res_CMB_b,lmax = lmax,alm=False,pol=True)\n",
    "# print(Cl1_res_CMB_b.shape)\n",
    "# Cl1_res_CMB_nb=hp.anafast(res_CMB_nb,lmax = lmax,alm=False,pol=True)\n",
    "# print(Cl1_res_CMB_nb.shape)"
   ]
  },
  {
   "cell_type": "code",
   "execution_count": 62,
   "metadata": {},
   "outputs": [
    {
     "name": "stdout",
     "output_type": "stream",
     "text": [
      "(2, 18528) (2, 18528)\n",
      "(2, 192)\n",
      "(2, 192)\n",
      "(2, 192)\n",
      "(192,)\n",
      "(192,)\n"
     ]
    }
   ],
   "source": [
    "alm_resi_CMB_beam = result_beam_alm[0]-alm_CMB_th\n",
    "alm_resi_CMB_no_beam = result_no_beam_alm[0]-alm_CMB_th\n",
    "alm_resi_CMB_no_beam_BAS = result_no_beam_BAS_alm[0]-alm_CMB_th\n",
    "\n",
    "print(alm_resi_CMB_beam.shape,alm_resi_CMB_no_beam.shape)\n",
    "\n",
    "Cl_res_CMB_b=np.array([hp.alm2cl(alm) for alm in alm_resi_CMB_beam])\n",
    "print(Cl_res_CMB_b.shape)\n",
    "Cl_res_CMB_nb=np.array([hp.alm2cl(alm) for alm in alm_resi_CMB_no_beam])\n",
    "print(Cl_res_CMB_nb.shape)\n",
    "Cl_res_CMB_nb_BAS=np.array([hp.alm2cl(alm) for alm in alm_resi_CMB_no_beam_BAS])\n",
    "print(Cl_res_CMB_nb_BAS.shape)\n",
    "Cl_res_CMB_EE_b = Cl_res_CMB_b[0]\n",
    "Cl_res_CMB_BB_b= Cl_res_CMB_b[1]\n",
    "Cl_res_CMB_EE_nb = Cl_res_CMB_nb[0]\n",
    "Cl_res_CMB_BB_nb= Cl_res_CMB_nb[1]\n",
    "Cl_res_CMB_EE_nb_BAS = Cl_res_CMB_nb_BAS[0]\n",
    "Cl_res_CMB_BB_nb_BAS= Cl_res_CMB_nb_BAS[1]\n",
    "print(Cl_res_CMB_EE_b.shape)\n",
    "print(Cl_res_CMB_BB_b.shape)"
   ]
  },
  {
   "attachments": {},
   "cell_type": "markdown",
   "metadata": {},
   "source": [
    "### Retrieved CMB Power spectrum"
   ]
  },
  {
   "cell_type": "code",
   "execution_count": 63,
   "metadata": {},
   "outputs": [],
   "source": [
    "# ret_resul_b = np.zeros((3,npix),dtype=complex)\n",
    "# ret_resul_b[1] = best_fit_maps_beam[0,0]\n",
    "# ret_resul_b[2] = best_fit_maps_beam[0,1]\n",
    "# print(ret_resul_b.shape)\n",
    "\n",
    "\n",
    "# ret_resul_nb = np.zeros((3,npix),dtype=complex)\n",
    "# ret_resul_nb[1] = best_fit_maps_no_beam[0,0]\n",
    "# ret_resul_nb[2] = best_fit_maps_no_beam[0,1]\n",
    "# print(ret_resul_nb.shape)\n",
    "# Cl_ret_b = hp.anafast(ret_resul_b,alm = False,pol=True)\n",
    "# print(Cl_ret_b.shape)\n",
    "# Cl_ret_BB_b = Cl_ret_b[2]\n",
    "# print(Cl_ret_BB_b.shape)\n",
    "\n",
    "# Cl_ret_nb = hp.anafast(ret_resul_nb,alm = False,pol=True)\n",
    "# print(Cl_ret_nb.shape)\n",
    "# Cl_ret_BB_nb = Cl_ret_nb[2]\n",
    "# print(Cl_ret_BB_nb.shape)\n"
   ]
  },
  {
   "attachments": {},
   "cell_type": "markdown",
   "metadata": {},
   "source": [
    "### Basic component separation"
   ]
  },
  {
   "cell_type": "code",
   "execution_count": 64,
   "metadata": {},
   "outputs": [
    {
     "name": "stdout",
     "output_type": "stream",
     "text": [
      "(15, 3)\n"
     ]
    },
    {
     "name": "stderr",
     "output_type": "stream",
     "text": [
      "/tmp/ipykernel_2428/1937513622.py:2: FutureWarning: Support for multi-dimensional indexing (e.g. `obj[:, None]`) is deprecated and will be removed in a future version.  Convert to a numpy array before indexing instead.\n",
      "  nl = (beam / np.radians(instrument.depth_p/60.)[:, np.newaxis])**2\n"
     ]
    }
   ],
   "source": [
    "result_beam_ren = basic_comp_sep(components, instrument, AS_p_ren[:,1:3,:], # verbose output             \n",
    "                               )\n",
    "A_beam_ren = A_ev(result_beam_ren.x)\n",
    "\n",
    "print(A_beam_ren.shape)\n",
    "\n",
    "cl_noise_basic_ren = _get_Cl_noise_nofwhm(instrument,beam_null,A_beam_ren,lmax)[i_cmb,i_cmb,:]\n"
   ]
  },
  {
   "cell_type": "code",
   "execution_count": 65,
   "metadata": {},
   "outputs": [
    {
     "name": "stdout",
     "output_type": "stream",
     "text": [
      "(192,)\n"
     ]
    }
   ],
   "source": [
    "print(cl_noise_basic_ren.shape)"
   ]
  },
  {
   "cell_type": "code",
   "execution_count": 66,
   "metadata": {},
   "outputs": [],
   "source": [
    "result_basic = basic_comp_sep(components, instrument, As_p[:,1:3,:], # verbose output             \n",
    "                               )\n",
    "# A_beam_ren = A_ev(result_beam_ren.x)\n",
    "\n",
    "# print(A_beam_ren.shape)\n",
    "\n"
   ]
  },
  {
   "cell_type": "code",
   "execution_count": 67,
   "metadata": {},
   "outputs": [],
   "source": [
    "map_CMB_smooth = np.array([hp.smoothing(map_CMB[j,:],beam_window=beam_common[:,j]) for j in range(0,ncomp)])\n"
   ]
  },
  {
   "cell_type": "code",
   "execution_count": 68,
   "metadata": {},
   "outputs": [
    {
     "name": "stdout",
     "output_type": "stream",
     "text": [
      "(3, 49152)\n"
     ]
    }
   ],
   "source": [
    "print(map_CMB_smooth.shape)"
   ]
  },
  {
   "cell_type": "code",
   "execution_count": 69,
   "metadata": {},
   "outputs": [],
   "source": [
    "CL_CMB_smooth = hp.anafast(map_CMB_smooth,lmax=lmax,alm=False, pol=True)"
   ]
  },
  {
   "cell_type": "code",
   "execution_count": 70,
   "metadata": {},
   "outputs": [
    {
     "name": "stdout",
     "output_type": "stream",
     "text": [
      "(3, 2, 49152)\n"
     ]
    }
   ],
   "source": [
    "print(result_beam_ren.s.shape)"
   ]
  },
  {
   "cell_type": "code",
   "execution_count": 71,
   "metadata": {},
   "outputs": [
    {
     "name": "stdout",
     "output_type": "stream",
     "text": [
      "(3, 49152)\n"
     ]
    }
   ],
   "source": [
    "res_CMB_Q_ren = np.subtract(result_beam_ren.s[0,0], map_CMB_smooth[1])\n",
    "res_CMB_U_ren = np.subtract(result_beam_ren.s[0,1], map_CMB_smooth[2])\n",
    "res_CMB_ren= np.zeros((3,npix),dtype=complex)\n",
    "res_CMB_ren[1] = res_CMB_Q_ren\n",
    "res_CMB_ren[2] = res_CMB_U_ren\n",
    "print(res_CMB_ren.shape)"
   ]
  },
  {
   "cell_type": "code",
   "execution_count": 72,
   "metadata": {},
   "outputs": [
    {
     "name": "stderr",
     "output_type": "stream",
     "text": [
      "/home/julientang2001/.local/lib/python3.10/site-packages/healpy/sphtfunc.py:274: ComplexWarning: Casting complex values to real discards the imaginary part\n",
      "  alms = _sphtools.map2alm(\n"
     ]
    }
   ],
   "source": [
    "Cl_CMB_ren_res =hp.anafast(res_CMB_ren,lmax=lmax,alm=False,pol=True)\n"
   ]
  },
  {
   "cell_type": "code",
   "execution_count": 73,
   "metadata": {},
   "outputs": [
    {
     "name": "stdout",
     "output_type": "stream",
     "text": [
      "(6, 192)\n"
     ]
    }
   ],
   "source": [
    "print(Cl_CMB_ren_res.shape)"
   ]
  },
  {
   "cell_type": "code",
   "execution_count": 74,
   "metadata": {},
   "outputs": [
    {
     "name": "stdout",
     "output_type": "stream",
     "text": [
      "(6, 192)\n",
      "(192,)\n"
     ]
    }
   ],
   "source": [
    "res_ret_ren = np.zeros((3,npix),dtype=complex)\n",
    "res_ret_ren[1] = result_beam_ren.s[0,0]\n",
    "res_ret_ren[2] = result_beam_ren.s[0,1]\n",
    "\n",
    "C_L_ret_ren = hp.anafast(res_ret_ren,alm = False,pol=True)\n",
    "print(C_L_ret_ren.shape)\n",
    "C_l_ret_ren_BB = C_L_ret_ren[2]\n",
    "print(C_l_ret_ren_BB.shape)"
   ]
  },
  {
   "attachments": {},
   "cell_type": "markdown",
   "metadata": {},
   "source": [
    "# + Gravitational waves"
   ]
  },
  {
   "cell_type": "code",
   "execution_count": 75,
   "metadata": {},
   "outputs": [
    {
     "name": "stdout",
     "output_type": "stream",
     "text": [
      "(4, 4101)\n",
      "(4, 192)\n"
     ]
    }
   ],
   "source": [
    "cl_GW = hp.read_cl(\"/home/julientang2001/Stage3A/Cls_Planck2018_unlensed_scalar_and_tensor_r1.fits\")\n",
    "print(cl_GW.shape)\n",
    "cl_GW_crop = cl_GW[:,:lmax+1]\n",
    "print(cl_GW_crop.shape)\n",
    "\n",
    "# map_CMB = hp.synfast(cl_GW,nside=NSIDE)"
   ]
  },
  {
   "cell_type": "code",
   "execution_count": 76,
   "metadata": {},
   "outputs": [],
   "source": [
    "cl_tot_th = np.add(0.001*cl_GW_crop,cl_CMB)"
   ]
  },
  {
   "cell_type": "code",
   "execution_count": 77,
   "metadata": {},
   "outputs": [
    {
     "name": "stdout",
     "output_type": "stream",
     "text": [
      "(192,)\n",
      "(192,)\n",
      "(192,)\n"
     ]
    }
   ],
   "source": [
    "cl_CMB_BB_out_beam = result_beam.cl_out[0,1]\n",
    "print(cl_CMB_BB_out_beam.shape)\n",
    "cl_CMB_BB_out_no_beam = result_no_beam.cl_out[0,1]\n",
    "print(cl_CMB_BB_out_no_beam.shape)\n",
    "cl_CMB_BB_out_no_beam_BAS = result_no_beam_BAS.cl_out[0,1]\n",
    "print(cl_CMB_BB_out_no_beam_BAS.shape)"
   ]
  },
  {
   "cell_type": "code",
   "execution_count": 78,
   "metadata": {},
   "outputs": [
    {
     "name": "stdout",
     "output_type": "stream",
     "text": [
      "(3, 2, 18528)\n"
     ]
    }
   ],
   "source": [
    "print(result_beam.s.shape)"
   ]
  },
  {
   "cell_type": "code",
   "execution_count": 106,
   "metadata": {},
   "outputs": [
    {
     "data": {
      "image/png": "[encoded data removed]",
      "text/plain": [
       "<Figure size 640x480 with 1 Axes>"
      ]
     },
     "metadata": {},
     "output_type": "display_data"
    }
   ],
   "source": [
    "l_arr = np.arange(0,lmax+1,1)\n",
    "\n",
    "py.figure(1)\n",
    "ax1 = py.subplot(111)\n",
    "ax1.tick_params('x', labelsize=6)\n",
    "# ax1.plot(l_arr,l_arr*(l_arr+1)/np.pi*Cl_res_CMB_BB_nb,'r-.',linewidth =.4,label = r'Residual of harmonic comp sep with $(\\frac{B^c}{B^{\\nu}}\\ast (B\\ast As+n) )$')\n",
    "ax1.plot(l_arr,l_arr*(l_arr+1)/np.pi*cl_CMB_BB_out_no_beam,'r--',linewidth = .4,label = r'Retrieved CMB( harmonic comp sep with $(\\frac{B^c}{B^{\\nu}}\\ast (B\\ast As+n) )$)')\n",
    "ax1.plot(l_arr,D_ell(CL_CMB_smooth[2]+cl_noise_no_beam),'r--',linewidth =1,label = \"Beamed theoretical lensed CMB\")\n",
    "\n",
    "# ax1.plot(l_arr,l_arr*(l_arr+1)/np.pi*Cl_CMB_ren_res[2],'g-.',linewidth =.4,label = r'Residual of basic comp sep with $(\\frac{B^c}{B^{\\nu}}\\ast (B\\ast As+n) )$')\n",
    "# ax1.plot(l_arr,l_arr*(l_arr+1)/np.pi*C_l_ret_ren_BB,'g--',linewidth = .4,label = r'Retrieved CMB( basic comp sep with $(\\frac{B^c}{B^{\\nu}}\\ast (B\\ast As+n))$)')\n",
    "# ax1.plot(l_arr,D_ell(CL_CMB_smooth[2]+cl_noise_basic_ren),'g--',linewidth =1,label = \"Beamed theoretical lensed CMB\")\n",
    "\n",
    "# ax1.plot(l_arr,l_arr*(l_arr+1)/np.pi*Cl_res_CMB_BB_nb_BAS,'r--',linewidth =.4,label = r'Residual of harmonic comp sep with $(B\\ast As+n)$')\n",
    "# ax1.plot(l_arr,l_arr*(l_arr+1)/np.pi*cl_CMB_BB_out_no_beam_BAS,'g--',linewidth = .4,label = r'Retrieved CMB( harmonic comp sep with $(B\\ast As+n)$)')\n",
    "\n",
    "# ax1.plot(l_arr,l_arr*(l_arr+1)/np.pi*Cl_res_CMB_BB_b,'b-.',linewidth =.4,label = r'Residual of harmonic comp sep beam with $(B\\ast As+n)$')\n",
    "# ax1.plot(l_arr,l_arr*(l_arr+1)/np.pi*cl_CMB_BB_out_beam,'b--',linewidth =.4,label = r'Retrieved CMB( harmonic comp sep beam  with $(B\\ast As+n))$')\n",
    "# ax1.plot(l_arr,D_ell(CL_CMB_smooth[2]+cl_noise_beam),'b--',linewidth =1,label = \"Beamed lensed CMB+associated noise\")\n",
    "\n",
    "\n",
    "# ax1.plot(l_arr,l_arr*(l_arr+1)/np.pi*cl_noise_beam,'r--',linewidth =1, label = 'Noise')\n",
    "# ax1.plot(l_arr,l_arr*(l_arr+1)/np.pi*cl_CMB_crop_th[2],'b',linewidth =1,label = \"Theoretical lensed CMB\")\n",
    "# ax1.plot(l_arr,l_arr*(l_arr+1)/np.pi*CL_CMB_smooth[2],'k--',linewidth =1,label = \"Beamed theoretical lensed CMB\")\n",
    "\n",
    "py.title('Power spectrum $D_{\\ell}^{BB}$ with noise after harmonic component separation')\n",
    "\n",
    "\n",
    "ax1.plot(l_arr,l_arr*(l_arr+1)/np.pi*0.001*cl_GW_crop[2],'m-.',linewidth =1,label = \"Theoretical primordial B-modes with $r=10^{-3}$\")\n",
    "\n",
    "\n",
    "handles, labels = ax1.get_legend_handles_labels()\n",
    "py.xlim(left = 2)\n",
    "py.grid()\n",
    "py.xlabel('$\\ell$')\n",
    "py.yscale(\"log\")\n",
    "py.xscale(\"log\")\n",
    "# py.ylim(-1,1)\n",
    "\n",
    "        #  of the residuals with and without beam, with noise')\n",
    "\n",
    "py.ylabel('$D_{\\ell}^{BB}$')\n",
    "py.legend(handles,labels, loc = 'upper left', fontsize = 'x-small')\n",
    "py.show()"
   ]
  },
  {
   "attachments": {},
   "cell_type": "markdown",
   "metadata": {},
   "source": [
    "### Exercice 05/30"
   ]
  },
  {
   "attachments": {},
   "cell_type": "markdown",
   "metadata": {},
   "source": [
    "$As+n$ : compare basic_comp_sep, harmonic, hamornic_beam\n",
    "\n",
    "\n"
   ]
  },
  {
   "cell_type": "code",
   "execution_count": 80,
   "metadata": {},
   "outputs": [
    {
     "name": "stdout",
     "output_type": "stream",
     "text": [
      "(15, 2, 49152)\n"
     ]
    }
   ],
   "source": [
    "print(As_p[:,1:3,:].shape)"
   ]
  },
  {
   "cell_type": "code",
   "execution_count": 81,
   "metadata": {},
   "outputs": [
    {
     "name": "stdout",
     "output_type": "stream",
     "text": [
      "Computing alms\n"
     ]
    },
    {
     "name": "stderr",
     "output_type": "stream",
     "text": [
      "/home/julientang2001/fgbuster/fgbuster/mixingmatrix.py:187: FutureWarning: Support for multi-dimensional indexing (e.g. `obj[:, None]`) is deprecated and will be removed in a future version.  Convert to a numpy array before indexing instead.\n",
      "  res += [g[..., np.newaxis]\n",
      "/home/julientang2001/fgbuster/fgbuster/algebra.py:1079: RuntimeWarning: invalid value encountered in divide\n",
      "  res.chi_dB.append(np.sum(res.chi * As_dB_i, -1)\n"
     ]
    },
    {
     "name": "stdout",
     "output_type": "stream",
     "text": [
      "Computing alms\n"
     ]
    },
    {
     "name": "stderr",
     "output_type": "stream",
     "text": [
      "/home/julientang2001/fgbuster/fgbuster/mixingmatrix.py:198: FutureWarning: Support for multi-dimensional indexing (e.g. `obj[:, None]`) is deprecated and will be removed in a future version.  Convert to a numpy array before indexing instead.\n",
      "  res += [g[..., np.newaxis]\n"
     ]
    },
    {
     "name": "stdout",
     "output_type": "stream",
     "text": [
      "(3, 192)\n",
      "(6, 192)\n"
     ]
    }
   ],
   "source": [
    "result_basic_comp = basic_comp_sep(components,instrument,As_p[:,1:3,:])\n",
    "result_harmonic_basic = harmonic_comp_sep(components,instrument,As_p,NSIDE,lmax)\n",
    "\n",
    "\n",
    "result_harmonic_beam = harmonic_comp_sep_beam(components,instrument_null,As_p,NSIDE,lmax)\n",
    "map_resi_CMB_basicQU = result_basic_comp.s[0]-map_CMB[1:3]\n",
    "alm_resi_CMB_harmonic_basic = result_harmonic_basic.s[0]-alm_CMB_th\n",
    "alm_resi_CMB_harmonic_beam = result_harmonic_beam.s[0]-alm_CMB_th\n",
    "\n",
    "\n",
    "Cl_res_CMB_harmo_basic=hp.alm2cl(alm_resi_CMB_harmonic_basic)\n",
    "Cl_res_CMB_harmo_beam=hp.alm2cl(alm_resi_CMB_harmonic_beam)\n",
    "print(Cl_res_CMB_harmo_beam.shape)\n",
    "\n",
    "map_resi_CMB_basic = np.zeros((3,npix))\n",
    "map_resi_CMB_basic[1:3] = map_resi_CMB_basicQU[0:2]\n",
    "Cl_res_CMB_basic=hp.anafast(map_resi_CMB_basic,lmax=lmax,alm=False,pol=True)\n",
    "print(Cl_res_CMB_basic.shape)"
   ]
  },
  {
   "cell_type": "code",
   "execution_count": 82,
   "metadata": {},
   "outputs": [
    {
     "name": "stdout",
     "output_type": "stream",
     "text": [
      "0.25027663658922744\n",
      "0.25004747246163717\n",
      "(2, 49152)\n",
      "(2, 18528) (2, 18528)\n"
     ]
    }
   ],
   "source": [
    "print(np.max(np.abs(alm_CMB_th)))\n",
    "print(np.max(np.abs(result_harmonic_basic.s[0])))\n",
    "\n",
    "print(map_resi_CMB_basicQU.shape)\n",
    "print(alm_resi_CMB_harmonic_basic.shape,alm_resi_CMB_harmonic_beam.shape)\n"
   ]
  },
  {
   "attachments": {},
   "cell_type": "markdown",
   "metadata": {},
   "source": [
    "#### Retrieved CMB"
   ]
  },
  {
   "cell_type": "code",
   "execution_count": 83,
   "metadata": {},
   "outputs": [
    {
     "name": "stdout",
     "output_type": "stream",
     "text": [
      "(3, 192)\n"
     ]
    }
   ],
   "source": [
    "map_ret_CMB_basic = np.zeros((3,npix))\n",
    "map_ret_CMB_basic[1:3] = result_basic_comp.s[0]\n",
    "Cl_ret_CMB_basic = hp.anafast(map_ret_CMB_basic,lmax=lmax,alm=False,pol=True)\n",
    "\n",
    "Cl_ret_CMB_harmo_basic=hp.alm2cl(result_harmonic_basic.s[0])\n",
    "Cl_ret_CMB_harmo_beam=hp.alm2cl(result_harmonic_beam.s[0])\n",
    "print(Cl_ret_CMB_harmo_beam.shape)\n"
   ]
  },
  {
   "attachments": {},
   "cell_type": "markdown",
   "metadata": {},
   "source": [
    "#### Noise"
   ]
  },
  {
   "cell_type": "code",
   "execution_count": 84,
   "metadata": {},
   "outputs": [
    {
     "name": "stderr",
     "output_type": "stream",
     "text": [
      "/tmp/ipykernel_2428/1937513622.py:2: FutureWarning: Support for multi-dimensional indexing (e.g. `obj[:, None]`) is deprecated and will be removed in a future version.  Convert to a numpy array before indexing instead.\n",
      "  nl = (beam / np.radians(instrument.depth_p/60.)[:, np.newaxis])**2\n"
     ]
    }
   ],
   "source": [
    "A_basic = A_ev(result_basic_comp.x)\n",
    "\n",
    "A_harmo_basic = A_ev(result_harmonic_basic.x)\n",
    "\n",
    "A_harmo_beam = A_ev(result_harmonic_beam.x)\n",
    "\n",
    "\n",
    "\n",
    "cl_noise_basic =_get_Cl_noise_nofwhm(instrument,beam_null,A_basic,lmax=lmax)[i_cmb, i_cmb, :]\n",
    "cl_noise_harmonic =_get_Cl_noise_nofwhm(instrument,beam_null,A_harmo_basic,lmax=lmax)[i_cmb, i_cmb, :]\n",
    "cl_noise_harmonic_beam =_get_Cl_noise_nofwhm(instrument,beam_null, A_harmo_beam,lmax=lmax)[i_cmb, i_cmb, :]\n"
   ]
  },
  {
   "cell_type": "code",
   "execution_count": 85,
   "metadata": {},
   "outputs": [
    {
     "name": "stdout",
     "output_type": "stream",
     "text": [
      "[[ 0.00000000e+00  1.89263555e-05  1.83194220e-03]\n",
      " [ 0.00000000e+00  2.33056630e-05  1.34396580e-03]\n",
      " [ 0.00000000e+00  2.74023012e-05  9.85920649e-04]\n",
      " [ 0.00000000e+00  3.04957459e-05  7.84860736e-04]\n",
      " [ 0.00000000e+00  3.41590710e-05  6.06983568e-04]\n",
      " [ 0.00000000e+00  3.79600031e-05  4.73375147e-04]\n",
      " [ 0.00000000e+00  4.15529232e-05  3.81146483e-04]\n",
      " [ 0.00000000e+00  4.73364398e-05  2.79471499e-04]\n",
      " [ 0.00000000e+00  5.31618520e-05  2.14377056e-04]\n",
      " [ 0.00000000e+00  5.94858743e-05  1.68925489e-04]\n",
      " [ 0.00000000e+00  6.49497091e-05  1.42136247e-04]\n",
      " [ 0.00000000e+00  6.78261454e-05  1.26921279e-04]\n",
      " [ 0.00000000e+00  5.93667530e-05  1.27565661e-04]\n",
      " [ 0.00000000e+00  1.85364206e-05  1.49131547e-04]\n",
      " [ 0.00000000e+00 -6.08955865e-05  2.07085171e-04]]\n",
      "(array([ 0,  0,  1,  1,  2,  2,  3,  3,  4,  4,  5,  5,  6,  6,  7,  7,  8,\n",
      "        8,  9,  9, 10, 10, 11, 11, 12, 12, 13, 13, 14, 14]), array([1, 2, 1, 2, 1, 2, 1, 2, 1, 2, 1, 2, 1, 2, 1, 2, 1, 2, 1, 2, 1, 2,\n",
      "       1, 2, 1, 2, 1, 2, 1, 2]))\n",
      "(array([  0,   1,   2,   3,   4,   5,   6,   7,   8,   9,  10,  11,  12,\n",
      "        13,  14,  15,  16,  17,  18,  19,  20,  21,  22,  23,  24,  25,\n",
      "        26,  27,  28,  29,  30,  31,  32,  33,  34,  35,  36,  37,  38,\n",
      "        39,  40,  41,  42,  43,  44,  45,  46,  47,  48,  49,  50,  51,\n",
      "        52,  53,  54,  55,  56,  57,  58,  59,  60,  61,  62,  63,  64,\n",
      "        65,  66,  67,  68,  69,  70,  71,  72,  73,  74,  75,  76,  77,\n",
      "        78,  79,  80,  81,  82,  83,  84,  85,  86,  87,  88,  89,  90,\n",
      "        91,  92,  93,  94,  95,  96,  97,  98,  99, 100, 101, 102, 103,\n",
      "       104, 105, 106, 107, 108, 109, 110, 111, 112, 113, 114, 115, 116,\n",
      "       117, 118, 119, 120, 121, 122, 123, 124, 125, 126, 127, 128, 129,\n",
      "       130, 131, 132, 133, 134, 135, 136, 137, 138, 139, 140, 141, 142,\n",
      "       143, 144, 145, 146, 147, 148, 149, 150, 151, 152, 153, 154, 155,\n",
      "       156, 157, 158, 159, 160, 161, 162, 163, 164, 165, 166, 167, 168,\n",
      "       169, 170, 171, 172, 173, 174, 175, 176, 177, 178, 179, 180, 181,\n",
      "       182, 183, 184, 185, 186, 187, 188, 189, 190, 191]),)\n",
      "(array([], dtype=int64),)\n",
      "7.098600750738014e-09\n",
      "(192,)\n"
     ]
    }
   ],
   "source": [
    "print(A_basic-A_harmo_basic)\n",
    "print(np.where(A_basic-A_harmo_basic!=0))\n",
    "print(np.where(cl_noise_basic!=cl_noise_harmonic))\n",
    "print(np.where(cl_noise_harmonic_beam!=cl_noise_harmonic))\n",
    "print(np.max(np.abs(cl_noise_basic-cl_noise_harmonic)))\n",
    "print(cl_noise_basic.shape)"
   ]
  },
  {
   "cell_type": "code",
   "execution_count": 107,
   "metadata": {},
   "outputs": [
    {
     "data": {
      "image/png": "[encoded data removed]",
      "text/plain": [
       "<Figure size 640x480 with 1 Axes>"
      ]
     },
     "metadata": {},
     "output_type": "display_data"
    }
   ],
   "source": [
    "l_arr = np.arange(0,lmax+1,1)\n",
    "\n",
    "py.figure(1)\n",
    "ax1 = py.subplot(111)\n",
    "ax1.tick_params('x', labelsize=6)\n",
    "\n",
    "# # ##Basic comp sep on As+n\n",
    "# ax1.plot(l_arr,D_ell(Cl_res_CMB_basic[2]),'r-.',linewidth =.4,label = r'Residual of basic comp sep with $As+n$')\n",
    "# ax1.plot(l_arr,D_ell(Cl_ret_CMB_basic[2]),'r--',linewidth = 1,label = r'Retrieved CMB(basic comp sep with $As+n$)')\n",
    "# ax1.plot(l_arr,D_ell(cl_CMB_crop_th[2]+cl_noise_basic),'r',linewidth =1,label = \"Lensed CMB + noise after basic comp sep\")\n",
    "\n",
    "\n",
    "# # ##Harmonic comp sep on As+n\n",
    "# ax1.plot(l_arr,D_ell(Cl_res_CMB_harmo_basic[1]),'g-.',linewidth =.4,label = r'Residual of harmonic comp sep with $As+n$')\n",
    "# ax1.plot(l_arr,D_ell(Cl_ret_CMB_harmo_basic[1]),'g-',linewidth = 1,label = r'Retrieved CMB(harmonic comp sep with $As+n$)')\n",
    "# ax1.plot(l_arr,D_ell(cl_CMB_crop_th[2]+cl_noise_harmonic),'g',linewidth =1,label = \"Lensed CMB + noise after harmonic comp sep\")\n",
    "\n",
    "# Harmonic_comp_sep beam with Identity beam on As+n\n",
    "ax1.plot(l_arr,D_ell(Cl_res_CMB_harmo_beam[1]),'b-.',linewidth =.4,label = r'Residual of harmonic comp sep beam with $As+n$ and $B=Id$')\n",
    "ax1.plot(l_arr,D_ell(Cl_ret_CMB_harmo_beam[1]),'b--',linewidth = 1,label = r'Retrieved CMB(harmonic comp sep beam with $As+n$ and $B=Id$)')\n",
    "ax1.plot(l_arr,D_ell(cl_CMB_crop_th[2]+cl_noise_harmonic_beam),'b',linewidth =1,label = \"Lensed CMB + noise after harmonic comp sep+beam\")\n",
    "\n",
    "\n",
    "## Diff harmo and harmo_beam\n",
    "# ax1.plot(l_arr,np.abs(D_ell(Cl_res_CMB_harmo_beam[1]-Cl_res_CMB_harmo_basic[1])),'b-.',linewidth =.4,label = r'Residual difference')\n",
    "# ax1.plot(l_arr,np.abs(D_ell(Cl_ret_CMB_harmo_beam[1]-Cl_ret_CMB_harmo_basic[1])),'b-',linewidth = .4,label = r'Retrieved CMB difference')\n",
    "\n",
    "\n",
    "\n",
    "# ax1.plot(l_arr,l_arr*(l_arr+1)/np.pi*cl_noise_beam,'r--',linewidth =1, label = 'Noise')\n",
    "ax1.plot(l_arr,l_arr*(l_arr+1)/np.pi*cl_CMB_crop_th[2],'k',linewidth =1,label = \"Theoretical lensed CMB\")\n",
    "# ax1.plot(l_arr,l_arr*(l_arr+1)/np.pi*CL_CMB_smooth[2],'k--',linewidth =.4,label = \"Beamed theoretical lensed CMB\")\n",
    "\n",
    "py.title('Comparison of $D_{\\ell , residual/retrieved}^{BB}$ with input $As+n$')\n",
    "\n",
    "\n",
    "ax1.plot(l_arr,l_arr*(l_arr+1)/np.pi*0.001*cl_GW_crop[2],'m-.',linewidth =1,label = \"Theoretical primordial B-modes with $r=10^{-3}$\")\n",
    "\n",
    "\n",
    "handles, labels = ax1.get_legend_handles_labels()\n",
    "py.xlim(left = 2)\n",
    "py.grid()\n",
    "py.xlabel('$\\ell$')\n",
    "py.yscale(\"log\")\n",
    "py.xscale(\"log\")\n",
    "# py.ylim(-1,1)\n",
    "\n",
    "        #  of the residuals with and without beam, with noise')\n",
    "\n",
    "py.ylabel('$D_{\\ell}^{BB}$')\n",
    "py.legend(handles,labels, loc = 'upper left', fontsize = 'x-small')\n",
    "py.show()"
   ]
  },
  {
   "cell_type": "code",
   "execution_count": 87,
   "metadata": {},
   "outputs": [],
   "source": [
    "# ax1.plot(l_arr,np.abs(D_ell()),'b-.',linewidth =.4,label = r'Residual difference')\n",
    "# ax1.plot(l_arr,np.abs(D_ell(Cl_ret_CMB_harmo_beam[1]-Cl_ret_CMB_harmo_basic[1])),"
   ]
  },
  {
   "cell_type": "code",
   "execution_count": 88,
   "metadata": {},
   "outputs": [
    {
     "name": "stdout",
     "output_type": "stream",
     "text": [
      "(array([], dtype=int64),)\n"
     ]
    }
   ],
   "source": [
    "print(np.where((Cl_ret_CMB_harmo_beam[1]-Cl_ret_CMB_harmo_basic[1])!=0))"
   ]
  },
  {
   "cell_type": "code",
   "execution_count": 89,
   "metadata": {},
   "outputs": [
    {
     "name": "stdout",
     "output_type": "stream",
     "text": [
      "0     70.5\n",
      "1     58.5\n",
      "2     51.1\n",
      "3     47.1\n",
      "4     43.8\n",
      "5     41.5\n",
      "6     37.8\n",
      "7     33.6\n",
      "8     30.8\n",
      "9     28.9\n",
      "10    28.6\n",
      "11    24.7\n",
      "12    22.5\n",
      "13    20.9\n",
      "14    17.9\n",
      "Name: fwhm, dtype: float64\n"
     ]
    }
   ],
   "source": [
    "print(instrument.fwhm)"
   ]
  },
  {
   "attachments": {},
   "cell_type": "markdown",
   "metadata": {},
   "source": [
    "$B^c As+n$ : compare harmonic & harmonic_beam with common beam"
   ]
  },
  {
   "attachments": {},
   "cell_type": "markdown",
   "metadata": {},
   "source": [
    "### Beam common"
   ]
  },
  {
   "cell_type": "code",
   "execution_count": 90,
   "metadata": {},
   "outputs": [],
   "source": [
    "inv_common = 1/beam_common"
   ]
  },
  {
   "cell_type": "code",
   "execution_count": 91,
   "metadata": {},
   "outputs": [
    {
     "name": "stdout",
     "output_type": "stream",
     "text": [
      "(15, 3, 49152)\n"
     ]
    }
   ],
   "source": [
    "print(BcAs_p.shape)"
   ]
  },
  {
   "cell_type": "code",
   "execution_count": 92,
   "metadata": {},
   "outputs": [],
   "source": [
    "BcAs_p_ren =  np.array([np.array([hp.smoothing(BcAs_p[i,j,:],beam_window=inv_common[:,j]) for j in range(0,ncomp) ]) for i in range(0,num_freq)])\n"
   ]
  },
  {
   "cell_type": "code",
   "execution_count": 93,
   "metadata": {},
   "outputs": [],
   "source": [
    "result_basic_comp = basic_comp_sep(components,instrument,BcAs_p_ren[:,1:3,:])\n"
   ]
  },
  {
   "cell_type": "code",
   "execution_count": 94,
   "metadata": {},
   "outputs": [
    {
     "name": "stdout",
     "output_type": "stream",
     "text": [
      "Computing alms\n"
     ]
    },
    {
     "name": "stderr",
     "output_type": "stream",
     "text": [
      "/home/julientang2001/fgbuster/fgbuster/mixingmatrix.py:187: FutureWarning: Support for multi-dimensional indexing (e.g. `obj[:, None]`) is deprecated and will be removed in a future version.  Convert to a numpy array before indexing instead.\n",
      "  res += [g[..., np.newaxis]\n",
      "/home/julientang2001/fgbuster/fgbuster/mixingmatrix.py:187: FutureWarning: Support for multi-dimensional indexing (e.g. `obj[:, None]`) is deprecated and will be removed in a future version.  Convert to a numpy array before indexing instead.\n",
      "  res += [g[..., np.newaxis]\n",
      "/home/julientang2001/fgbuster/fgbuster/mixingmatrix.py:187: FutureWarning: Support for multi-dimensional indexing (e.g. `obj[:, None]`) is deprecated and will be removed in a future version.  Convert to a numpy array before indexing instead.\n",
      "  res += [g[..., np.newaxis]\n",
      "/home/julientang2001/fgbuster/fgbuster/algebra.py:1079: RuntimeWarning: invalid value encountered in divide\n",
      "  res.chi_dB.append(np.sum(res.chi * As_dB_i, -1)\n"
     ]
    }
   ],
   "source": [
    "result_harmonic_basic = harmonic_comp_sep(components,instrument,BcAs_p_ren,NSIDE,lmax)\n",
    "\n",
    "\n"
   ]
  },
  {
   "cell_type": "code",
   "execution_count": 95,
   "metadata": {},
   "outputs": [
    {
     "name": "stdout",
     "output_type": "stream",
     "text": [
      "Computing alms\n"
     ]
    },
    {
     "name": "stderr",
     "output_type": "stream",
     "text": [
      "/home/julientang2001/fgbuster/fgbuster/mixingmatrix.py:198: FutureWarning: Support for multi-dimensional indexing (e.g. `obj[:, None]`) is deprecated and will be removed in a future version.  Convert to a numpy array before indexing instead.\n",
      "  res += [g[..., np.newaxis]\n",
      "/home/julientang2001/fgbuster/fgbuster/mixingmatrix.py:198: FutureWarning: Support for multi-dimensional indexing (e.g. `obj[:, None]`) is deprecated and will be removed in a future version.  Convert to a numpy array before indexing instead.\n",
      "  res += [g[..., np.newaxis]\n",
      "/home/julientang2001/fgbuster/fgbuster/mixingmatrix.py:198: FutureWarning: Support for multi-dimensional indexing (e.g. `obj[:, None]`) is deprecated and will be removed in a future version.  Convert to a numpy array before indexing instead.\n",
      "  res += [g[..., np.newaxis]\n",
      "/home/julientang2001/fgbuster/fgbuster/algebra.py:1079: RuntimeWarning: invalid value encountered in divide\n",
      "  res.chi_dB.append(np.sum(res.chi * As_dB_i, -1)\n"
     ]
    }
   ],
   "source": [
    "result_harmonic_beam = harmonic_comp_sep_beam(components,instrument_common,BcAs_p,NSIDE,lmax)"
   ]
  },
  {
   "cell_type": "code",
   "execution_count": 96,
   "metadata": {},
   "outputs": [
    {
     "name": "stdout",
     "output_type": "stream",
     "text": [
      "(3, 192)\n",
      "(6, 192)\n"
     ]
    }
   ],
   "source": [
    "\n",
    "map_resi_CMB_basicQU = result_basic_comp.s[0]-map_CMB[1:3]\n",
    "alm_resi_CMB_harmonic_basic = result_harmonic_basic.s[0]-alm_CMB_th\n",
    "alm_resi_CMB_harmonic_beam = result_harmonic_beam.s[0]-alm_CMB_th\n",
    "\n",
    "\n",
    "Cl_res_CMB_harmo_basic=hp.alm2cl(alm_resi_CMB_harmonic_basic)\n",
    "Cl_res_CMB_harmo_beam=hp.alm2cl(alm_resi_CMB_harmonic_beam)\n",
    "print(Cl_res_CMB_harmo_beam.shape)\n",
    "\n",
    "map_resi_CMB_basic = np.zeros((3,npix))\n",
    "map_resi_CMB_basic[1:3] = map_resi_CMB_basicQU[0:2]\n",
    "Cl_res_CMB_basic=hp.anafast(map_resi_CMB_basic,lmax=lmax,alm=False,pol=True)\n",
    "print(Cl_res_CMB_basic.shape)"
   ]
  },
  {
   "attachments": {},
   "cell_type": "markdown",
   "metadata": {},
   "source": [
    "### Retrieved CMB"
   ]
  },
  {
   "cell_type": "code",
   "execution_count": 97,
   "metadata": {},
   "outputs": [
    {
     "name": "stdout",
     "output_type": "stream",
     "text": [
      "(3, 192)\n"
     ]
    }
   ],
   "source": [
    "map_ret_CMB_basic = np.zeros((3,npix))\n",
    "map_ret_CMB_basic[1:3] = result_basic_comp.s[0]\n",
    "Cl_ret_CMB_basic = hp.anafast(map_ret_CMB_basic,lmax=lmax,alm=False,pol=True)\n",
    "\n",
    "Cl_ret_CMB_harmo_basic=hp.alm2cl(result_harmonic_basic.s[0])\n",
    "Cl_ret_CMB_harmo_beam=hp.alm2cl(result_harmonic_beam.s[0])\n",
    "print(Cl_ret_CMB_harmo_beam.shape)\n"
   ]
  },
  {
   "cell_type": "code",
   "execution_count": 98,
   "metadata": {},
   "outputs": [
    {
     "name": "stdout",
     "output_type": "stream",
     "text": [
      "4.306109980420758e-11\n"
     ]
    }
   ],
   "source": [
    "print(np.max(np.abs(Cl_res_CMB_basic[2]-Cl_res_CMB_harmo_basic[1])))"
   ]
  },
  {
   "cell_type": "code",
   "execution_count": 99,
   "metadata": {},
   "outputs": [
    {
     "name": "stdout",
     "output_type": "stream",
     "text": [
      "6.289923991556265e-06\n",
      "8.147677184265646e-05\n"
     ]
    }
   ],
   "source": [
    "print(np.max(np.abs(Cl_res_CMB_harmo_beam[2]-Cl_res_CMB_harmo_basic[1])))\n",
    "print(np.max(np.abs(Cl_ret_CMB_harmo_beam[2]-Cl_ret_CMB_harmo_basic[1])))"
   ]
  },
  {
   "cell_type": "code",
   "execution_count": 100,
   "metadata": {},
   "outputs": [
    {
     "name": "stdout",
     "output_type": "stream",
     "text": [
      "2.5981576759348015e-10\n"
     ]
    }
   ],
   "source": [
    "print(np.max(np.abs(Cl_ret_CMB_basic[2]-Cl_ret_CMB_harmo_basic[1])))"
   ]
  },
  {
   "attachments": {},
   "cell_type": "markdown",
   "metadata": {},
   "source": [
    "### Noise"
   ]
  },
  {
   "cell_type": "code",
   "execution_count": 101,
   "metadata": {},
   "outputs": [
    {
     "name": "stderr",
     "output_type": "stream",
     "text": [
      "/tmp/ipykernel_2428/1937513622.py:2: FutureWarning: Support for multi-dimensional indexing (e.g. `obj[:, None]`) is deprecated and will be removed in a future version.  Convert to a numpy array before indexing instead.\n",
      "  nl = (beam / np.radians(instrument.depth_p/60.)[:, np.newaxis])**2\n"
     ]
    }
   ],
   "source": [
    "A_basic = A_ev(result_basic_comp.x)\n",
    "\n",
    "A_harmo_basic = A_ev(result_harmonic_basic.x)\n",
    "\n",
    "A_harmo_beam = A_ev(result_harmonic_beam.x)\n",
    "\n",
    "\n",
    "beam_null = np.ones((len(instrument.frequency), lmax+1))\n",
    "\n",
    "cl_noise_basic =_get_Cl_noise_nofwhm(instrument,beam_null,A_basic,lmax=lmax)[i_cmb, i_cmb, :]\n",
    "cl_noise_harmonic =_get_Cl_noise_nofwhm(instrument,beam_null,A_harmo_basic,lmax=lmax)[i_cmb, i_cmb, :]\n",
    "cl_noise_harmonic_beam =_get_Cl_noise_nofwhm(instrument,beam_null, A_harmo_beam,lmax=lmax)[i_cmb, i_cmb, :]\n"
   ]
  },
  {
   "cell_type": "code",
   "execution_count": 102,
   "metadata": {},
   "outputs": [
    {
     "data": {
      "image/png": "[encoded data removed]",
      "text/plain": [
       "<Figure size 640x480 with 1 Axes>"
      ]
     },
     "metadata": {},
     "output_type": "display_data"
    }
   ],
   "source": [
    "l_arr = np.arange(0,lmax+1,1)\n",
    "\n",
    "py.figure(1)\n",
    "ax1 = py.subplot(111)\n",
    "ax1.tick_params('x', labelsize=6)\n",
    "\n",
    "# # ##Basic comp sep on As+n\n",
    "ax1.plot(l_arr,D_ell(Cl_res_CMB_basic[2]),'r-.',linewidth =.4,label = r'Residual of basic comp sep with $\\dfrac{1}{B^c}(B^c As+n)$')\n",
    "ax1.plot(l_arr,D_ell(Cl_ret_CMB_basic[2]),'r--',linewidth = 1,label = r'Retrieved CMB(basic comp sep with $\\dfrac{1}{B^c}(B^c As+n)$)')\n",
    "ax1.plot(l_arr,D_ell(cl_CMB_crop_th[2]+cl_noise_basic),'r',linewidth =1,label = \"Lensed CMB + noise after basic comp sep\")\n",
    "\n",
    "\n",
    "# ##Harmonic comp sep on As+n\n",
    "ax1.plot(l_arr,D_ell(Cl_res_CMB_harmo_basic[1]),'g-.',linewidth =.4,label = r'Residual of harmonic comp sep with $\\dfrac{1}{B^c}(B^c As+n)$')\n",
    "ax1.plot(l_arr,D_ell(Cl_ret_CMB_harmo_basic[1]),'g-',linewidth = 1,label = r'Retrieved CMB(harmonic comp sep with $\\dfrac{1}{B^c}(B^c As+n)$)')\n",
    "ax1.plot(l_arr,D_ell(cl_CMB_crop_th[2]+cl_noise_harmonic),'g',linewidth =1,label = \"Lensed CMB + noise after harmonic comp sep\")\n",
    "\n",
    "# Harmonic_comp_sep beam with Identity beam on As+n\n",
    "ax1.plot(l_arr,D_ell(Cl_res_CMB_harmo_beam[1]),'b-.',linewidth =.4,label = r'Residual of harmonic comp sep beam with $B^c As+n$ and $B=B^c$')\n",
    "ax1.plot(l_arr,D_ell(Cl_ret_CMB_harmo_beam[1]),'b--',linewidth = 1,label = r'Retrieved CMB(harmonic comp sep beam with $B^c As+n$ and $B=B^c$)')\n",
    "ax1.plot(l_arr,D_ell(cl_CMB_crop_th[2]+cl_noise_harmonic_beam),'b',linewidth =1,label = \"Lensed CMB + noise after harmonic comp sep+beam\")\n",
    "\n",
    "\n",
    "## Diff harmo and harmo_beam\n",
    "# ax1.plot(l_arr,np.abs(D_ell(Cl_res_CMB_harmo_beam[1]-Cl_res_CMB_harmo_basic[1])),'b-.',linewidth =.4,label = r'Residual difference')\n",
    "# ax1.plot(l_arr,np.abs(D_ell(Cl_ret_CMB_harmo_beam[1]-Cl_ret_CMB_harmo_basic[1])),'b-',linewidth = .4,label = r'Retrieved CMB difference')\n",
    "\n",
    "\n",
    "\n",
    "# ax1.plot(l_arr,l_arr*(l_arr+1)/np.pi*cl_noise_beam,'r--',linewidth =1, label = 'Noise')\n",
    "ax1.plot(l_arr,l_arr*(l_arr+1)/np.pi*cl_CMB_crop_th[2],'k',linewidth =1,label = \"Theoretical lensed CMB\")\n",
    "# ax1.plot(l_arr,l_arr*(l_arr+1)/np.pi*CL_CMB_smooth[2],'k--',linewidth =.4,label = \"Beamed theoretical lensed CMB\")\n",
    "\n",
    "py.title('Comparison of $D_{\\ell , residual/retrieved}^{BB}$ ')\n",
    "         #with input $\\dfrac{1}{B^c}(B^c As+n)$')\n",
    "\n",
    "\n",
    "ax1.plot(l_arr,l_arr*(l_arr+1)/np.pi*0.001*cl_GW_crop[2],'m-.',linewidth =1,label = \"Theoretical primordial B-modes with $r=10^{-3}$\")\n",
    "\n",
    "\n",
    "handles, labels = ax1.get_legend_handles_labels()\n",
    "py.xlim(left = 2)\n",
    "py.grid()\n",
    "py.xlabel('$\\ell$')\n",
    "py.yscale(\"log\")\n",
    "py.xscale(\"log\")\n",
    "# py.ylim(-1,1)\n",
    "\n",
    "        #  of the residuals with and without beam, with noise')\n",
    "\n",
    "py.ylabel('$D_{\\ell}^{BB}$')\n",
    "py.legend(handles,labels, loc = 'upper left', fontsize = 'x-small')\n",
    "py.show()"
   ]
  },
  {
   "cell_type": "code",
   "execution_count": 103,
   "metadata": {},
   "outputs": [
    {
     "ename": "NameError",
     "evalue": "name 'C_BB_CMB_ren_l' is not defined",
     "output_type": "error",
     "traceback": [
      "\u001b[0;31m---------------------------------------------------------------------------\u001b[0m",
      "\u001b[0;31mNameError\u001b[0m                                 Traceback (most recent call last)",
      "\u001b[0;32m/tmp/ipykernel_2428/1607209541.py\u001b[0m in \u001b[0;36m<module>\u001b[0;34m\u001b[0m\n\u001b[0;32m----> 1\u001b[0;31m \u001b[0mprint\u001b[0m\u001b[0;34m(\u001b[0m\u001b[0mnp\u001b[0m\u001b[0;34m.\u001b[0m\u001b[0msubtract\u001b[0m\u001b[0;34m(\u001b[0m\u001b[0mC_BB_CMB_ren_l\u001b[0m\u001b[0;34m,\u001b[0m\u001b[0mcl_beam_ren\u001b[0m\u001b[0;34m)\u001b[0m\u001b[0;34m)\u001b[0m\u001b[0;34m\u001b[0m\u001b[0;34m\u001b[0m\u001b[0m\n\u001b[0m",
      "\u001b[0;31mNameError\u001b[0m: name 'C_BB_CMB_ren_l' is not defined"
     ]
    }
   ],
   "source": [
    "print(np.subtract(C_BB_CMB_ren_l,cl_beam_ren))"
   ]
  },
  {
   "attachments": {},
   "cell_type": "markdown",
   "metadata": {},
   "source": [
    "# Cosmological parameters"
   ]
  },
  {
   "cell_type": "code",
   "execution_count": null,
   "metadata": {},
   "outputs": [],
   "source": [
    "def cosmo_likelihood(r,C_l_obs,noise):\n",
    "    if len(C_l_obs)!=lmax+1 or len(noise)!=lmax+1:\n",
    "        raise Warning(\"Arrays should be of size \"+str(lmax))\n",
    "    \n",
    "    C_lth =r*cl_GW_crop[2]+cl_CMB_crop_th[2]+noise\n",
    "    sig = 0\n",
    "    for l in range(2,lmax):\n",
    "        sig+=(2*l+1)*(np.log(C_lth[l])+C_l_obs[l]/C_lth[l])\n",
    "    return (sig)\n"
   ]
  },
  {
   "cell_type": "code",
   "execution_count": null,
   "metadata": {},
   "outputs": [],
   "source": [
    "avg_cosmo_ren = cosmo_likelihood(r=0,C_l_obs=C_l_ret_ren_BB,noise=cl_beam_ren)\n",
    "avg_cosmo_inv = cosmo_likelihood(r=0,C_l_obs=C_l_inv_BB,noise=cl_beam_inv)\n",
    "\n",
    "print(avg_cosmo_ren)"
   ]
  },
  {
   "cell_type": "code",
   "execution_count": null,
   "metadata": {},
   "outputs": [],
   "source": [
    "r_arr = np.logspace(-2.3,-2,100)\n",
    "y_ren =np.array([cosmo_likelihood(r,C_l_obs=C_l_ret_ren_BB,noise=cl_beam_ren) for r in r_arr])\n",
    "y_inv =np.array([cosmo_likelihood(r,C_l_obs=C_l_inv_BB,noise=cl_beam_inv) for r in r_arr])\n",
    "y_inv0 = np.min(y_inv)"
   ]
  },
  {
   "cell_type": "code",
   "execution_count": null,
   "metadata": {},
   "outputs": [],
   "source": [
    "fig,ax = py.subplots()\n",
    "\n",
    "# ax.plot(r_arr,np.exp((avg_cosmo_ren-y_ren)/2),'r-.', label = 'result with '+r'$\\frac{B^c}{B^{\\nu}}$')\n",
    "ax.plot(r_arr,np.exp((y_inv0-y_inv)/2),'b-.',label = 'result with '+r'$\\frac{1}{B^{\\nu}}$')\n",
    "\n",
    "\n",
    "\n",
    "py.title('Likelihood (up to a constant) as function of tensor-to-scalar ratio')\n",
    "handles, labels = ax.get_legend_handles_labels()\n",
    "py.xlabel(r'$r$')\n",
    "py.ylabel(r'$e^{\\frac{\\langle ln \\mathcal{L}_{par} \\rangle}{\\langle ln \\mathcal{L}_{par}(r=0) \\rangle}}$')\n",
    "\n",
    "# py.ylabel(r'$e^{-1+\\frac{\\langle ln \\mathcal{L}_{par} \\rangle}{\\langle ln \\mathcal{L}_{par}(r=0) \\rangle}}$')\n",
    "# py.yscale(\"log\")\n",
    "py.xscale(\"log\")\n",
    "# py.xlim(0,1e-3)\n",
    "py.grid()\n",
    "# py.ylim(-1,1)\n",
    "\n",
    "        #  of the residuals with and without beam, with noise')\n",
    "# Set the background color of the plot\n",
    "# ax.set_facecolor('gray')\n",
    "\n",
    "# Set the background color of the figure\n",
    "# ax.xaxis.label.set_color('white')\n",
    "# ax.yaxis.label.set_color('white')\n",
    "# ax.title.set_color('white')\n",
    "# fig.set_facecolor('gray')\n",
    "\n",
    "py.legend(handles,labels, loc = 'best', fontsize = 'x-small')\n",
    "py.show()"
   ]
  },
  {
   "cell_type": "code",
   "execution_count": null,
   "metadata": {},
   "outputs": [],
   "source": []
  }
 ],
 "metadata": {
  "kernelspec": {
   "display_name": "FGBuster",
   "language": "python",
   "name": "python3"
  },
  "language_info": {
   "codemirror_mode": {
    "name": "ipython",
    "version": 3
   },
   "file_extension": ".py",
   "mimetype": "text/x-python",
   "name": "python",
   "nbconvert_exporter": "python",
   "pygments_lexer": "ipython3",
   "version": "3.10.0"
  },
  "orig_nbformat": 4
 },
 "nbformat": 4,
 "nbformat_minor": 2
}
