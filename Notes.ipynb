{
 "cells": [
  {
   "attachments": {},
   "cell_type": "markdown",
   "id": "fa1cc253",
   "metadata": {},
   "source": [
    "$d=As+n$\n",
    "\n",
    "$n=d-As$\n",
    "\n",
    "Assuming Gaussian noise, with the covariance matrix : $N=\\langle nn^T\\rangle$.\n",
    "\n",
    "We define likelihood : $$\\mathcal{S}\\equiv-2ln(\\mathcal{L})=n^TN^{-1}n$$\n",
    "\n",
    "$S = (d-As)^TN^{-1}(d-As)$\n",
    "\n",
    "$\\frac{\\partial \\mathcal{S}}{\\partial s} = -2A^TN^{-1}d+2A^TN^{-1}As$ yielding $s_{max}=(A^TN^{-1}A)^{-1}A^TN^{-1}d$\n",
    "\n",
    "Replacing in the definition of the likelihood : \n",
    "$$\\mathcal{S}_{spec}=\\sum_p(C-d_p^TN^{-1}A(A^TN^{-1}A)^{-1}A^TN^{-1}d_p)$$"
   ]
  },
  {
   "attachments": {},
   "cell_type": "markdown",
   "id": "fba17d12",
   "metadata": {},
   "source": [
    "$H^2=\\frac{8\\pi G}{3}\\rho$ with $\\rho = \\frac{1}{2}\\dot{\\phi}^2+V(\\phi)$\n",
    "\n",
    "Equivalently, $H^{-1}=(\\frac{3}{8\\pi G\\rho})^{\\frac{1}{2}}$"
   ]
  },
  {
   "attachments": {},
   "cell_type": "markdown",
   "id": "040d65ca",
   "metadata": {},
   "source": [
    "Thus $\\epsilon \\equiv -\\frac{\\dot{H}}{H^2}= \\frac{dH^{-1}}{dt}$"
   ]
  },
  {
   "attachments": {},
   "cell_type": "markdown",
   "id": "df6afa03",
   "metadata": {},
   "source": [
    "$\\epsilon = \\sqrt{\\frac{3}{8\\pi G}}[-\\frac{1}{2}\\frac{\\dot{\\rho}}{\\rho^{\\frac{3}{2}}}]$"
   ]
  },
  {
   "attachments": {},
   "cell_type": "markdown",
   "id": "91086fda",
   "metadata": {},
   "source": []
  },
  {
   "attachments": {},
   "cell_type": "markdown",
   "id": "87a7e669",
   "metadata": {},
   "source": [
    "## Transmittance"
   ]
  },
  {
   "attachments": {},
   "cell_type": "markdown",
   "id": "34283ae0",
   "metadata": {},
   "source": [
    "Fit oblique\n",
    "$(n,\\tan \\delta, d,f_{in},\\theta_{i},pol_{inc}) $\n",
    "$\\sqrt{\\frac{\\epsilon_0}{\\mu_0}}$\n",
    "$n_i\\sin (\\theta_i) = n_{i+1}\\sin (\\theta_{i+1})$\n",
    "$\\underline{n_i}=n_i - 0.5n_i\\tan \\delta_i$\n",
    "Effective thickness\n",
    "$h_i = n_{i+1}*d_i*\\cos \\theta_{i+1}$\n",
    "$k\\equiv \\frac{2\\pi f}{c}=\\frac{\\omega}{c}$\n",
    "If $pol_{inc}=1$:\n",
    "\n",
    "\n",
    "$\\Upsilon_i = \\sqrt{\\frac{\\epsilon_0}{\\mu_0}} \\underline{n_i}\\cos(\\theta_i)$ and $CC=1$\n",
    "If $pol_{inc}=-1$:\n",
    "\n",
    "$\\Upsilon_i = \\sqrt{\\frac{\\epsilon_0}{\\mu_0}}\\frac{ \\underline{n_i}}{\\cos(\\theta_i)}$ and $CC=\\frac{\\cos \\theta_{i+1}}{\\cos(\\theta_0)}$\n",
    "$$ \\mathcal{M} = \\Pi_{i=0}^n\\mathcal{M_i}\n",
    "$$ \n",
    "with\n",
    "$$\\mathcal{M_i}=\n",
    "\\left(\\begin{array}{cc} \n",
    "\\cos (kh_i) & \\cos (kh_i) \\Upsilon_i\\\\\n",
    "\\sin (kh_i)/\\Upsilon_i & \\cos (kh_i)\n",
    "\\end{array}\\right)$$\n",
    "$r = \\frac{\\Upsilon_0 m_{11} + \\Upsilon_0 \\Upsilon_s m_{12} -m_{21}-\\Upsilon_s m_{22}}{\\Upsilon_0 m_{11} + \\Upsilon_0 \\Upsilon_s m_{12}+m_{21}+\\Upsilon_s m_{22}}$ and \n",
    "$r = \\frac{2\\Upsilon_0 }{\\Upsilon_0 m_{11} + \\Upsilon_0 \\Upsilon_s m_{12}+m_{21}+\\Upsilon_s m_{22}}$\n",
    "With $r=\\frac{E_{rI}}{E_{iI}}$ and $t=\\frac{E_{tII}}{E_{iI}}$"
   ]
  },
  {
   "attachments": {},
   "cell_type": "markdown",
   "id": "f95ffb7c",
   "metadata": {},
   "source": [
    "def fit_oblique_basic_multilayer_r_t_incloss( n, losstan, d, freq_in, angle_i, incpol):\n",
    "\n",
    "    num=len(d) #; the number of layer not including two ends\n",
    "    const = np.sqrt((8.85e-12)/(4.*pi*1e-7)) #SI unit sqrt(dielectric const/permiability)\n",
    "\n",
    "    # ;-----------------------------------------------------------------------------------\n",
    "    # ; angle of refraction\n",
    "    angle = np.zeros(num+2)          # ; angle[0]=incident angle\n",
    "    angle[0] = angle_i\n",
    "    for i in range(0,num+1): angle[i+1] = np.arcsin(np.sin(angle[i])*n[i]/n[i+1])\n",
    "\n",
    "    # ;-----------------------------------------------------------------------------------\n",
    "    # ; define the frequency span\n",
    "    l = len(freq_in)\n",
    "    output = np.zeros((3,l),'complex') # output = dcomplexarr(3,l)\n",
    "    \n",
    "    # ;-----------------------------------------------------------------------------------\n",
    "    # ; define the effective thickness of each layer\n",
    "    h = np.zeros(num,'complex')\n",
    "    n_comparr = np.zeros(len(n),'complex')\n",
    "    n_comparr[0] = complex(n[0], -0.5*n[0]*losstan[0])\n",
    "    n_comparr[num+1] = complex(n[num+1], -0.5*n[num+1]*losstan[num+1])\n",
    "\n",
    "    # ;-----------------------------------------------------------------------------------\n",
    "    # ; for loop for various thickness of air gap between each layer\n",
    "    for j in range(0,l):\n",
    "        for i in range(0,num): \n",
    "            n_comparr[i+1] = complex(n[i+1], -0.5*n[i+1]*losstan[i+1])\n",
    "            h[i] = n_comparr[i+1]*d[i]*np.cos(angle[i+1]) # ;effective thickness of 1st layer\n",
    "\n",
    "        freq = freq_in[j]\n",
    "        k = 2.*pi*freq/c\n",
    "        \n",
    "        # ;===========================================\n",
    "        # ; Y: Y[0]=vacuum, Y[1]=1st layer..., Y[num+1]=end side\n",
    "        Y = np.zeros(num+2,'complex')\n",
    "        for i in range(0,num+2):\n",
    "            if (incpol == 1):\n",
    "                Y[i] = const*n_comparr[i]*np.cos(angle[i])\n",
    "                cc = 1.\n",
    "            if (incpol == -1):\n",
    "                Y[i] = const*n_comparr[i]/np.cos(angle[i])\n",
    "                cc = np.cos(angle[num+1])/np.cos(angle[0])\n",
    "\n",
    "        # ;===========================================\n",
    "        # ; define matrix for single layer\n",
    "        m = np.identity((2),'complex')    # ; net matrix\n",
    "        me = np.zeros((2,2),'complex') # ; me[0]=1st layer, ...\n",
    "        for i in range(0,num):\n",
    "            me[0,0] = complex(np.cos(k*h[i]), 0.)\n",
    "            me[1,0] = complex(0., np.sin(k*h[i])/Y[i+1])\n",
    "            me[0,1] = complex(0., np.sin(k*h[i])*Y[i+1])\n",
    "            me[1,1] = complex(np.cos(k*h[i]), 0.)\n",
    "            m = np.dot(m,me)\n",
    "\n",
    "        r = (Y[0]*m[0,0]*cc+Y[0]*Y[num+1]*m[1,0]-m[0,1]*cc-Y[num+1]*m[1,1]) / (Y[0]*m[0,0]*cc+Y[0]*Y[num+1]*m[1,0]+m[0,1]*cc+Y[num+1]*m[1,1])\n",
    "        t = 2.*Y[0] / (Y[0]*m[0,0]*cc+Y[0]*Y[num+1]*m[1,0]+m[0,1]*cc+Y[num+1]*m[1,1])\n",
    "\n",
    "        output[0,j] = freq+0.j #; unit of [Hz]\n",
    "        output[1,j] = r\n",
    "        output[2,j] = t\n",
    "\n",
    "    return output"
   ]
  },
  {
   "attachments": {},
   "cell_type": "markdown",
   "id": "e1b4e0bf",
   "metadata": {},
   "source": [
    "We measure $T_{meas}=\\hat{T}+\\delta T_{sys} + n$ where $\\hat{T}$ is the true signal, $\\delta T_{sys}$ is to be determined and $n$ is assumed to be a Gaussian white noise.\n",
    "\n",
    "From the data, we can fit our transmittance model and retrieve $T_{fit}$.\n",
    "\n",
    "We then define the residuals $\\Delta T \\equiv  T_{meas}-T_{fit}$.\n",
    "\n",
    "We then compute the Power Spectrum Density of the residuals.\n",
    "\n",
    "\\textit{Preliminary :}\n",
    "\n",
    "If $X(t)$ is a real signal, we denote its Fourier transform $\\tilde{X}(\\nu)\\equiv \\int_{-\\infty}^{+\\infty}x(t) e^{i\\nu t}dt$.\n",
    "\n",
    "We can discretize this integral and we denote $x_i , i \\in [[-N/2,N/2]]$\n",
    "\n",
    "The PSD is defined element-wise by $|x_i|^2+|x_{-i}|^2$\n",
    "We remove the systematic peaks by assuming the residual PSD to be a Gaussian in a first approximation and compute its mean $\\mu$ and width $\\sigma$. Now, we remove the peaks that are oustide of an uncertainty range, of which we define the level. This gives us $P^{notched}$ the notched PSD.\n",
    "From the notched PSD, we compute the notched residual $\\Delta T_n$.\n",
    "Then, $\\Delta T -\\Delta T_n = \\delta T$, which should account for all the systematics. \n",
    "Eventually, we use $T_{clean}=T_{meas}-\\delta T$ as our data to fit and hope for a better result."
   ]
  },
  {
   "cell_type": "code",
   "execution_count": 1,
   "id": "e09ab13f",
   "metadata": {},
   "outputs": [
    {
     "data": {
      "image/png": "[encoded data removed]",
      "text/plain": [
       "<Figure size 640x480 with 1 Axes>"
      ]
     },
     "metadata": {},
     "output_type": "display_data"
    }
   ],
   "source": [
    "import numpy as np\n",
    "import matplotlib.pyplot as plt\n",
    "\n",
    "# Generate some data\n",
    "x = np.linspace(0, 10, 100)\n",
    "y1 = np.sin(x)\n",
    "y2 = np.cos(x)\n",
    "\n",
    "# Plot the data with labels\n",
    "plt.plot(x, y1, label='Sin')\n",
    "plt.plot(x, y2, label='Cos')\n",
    "\n",
    "# Add a legend\n",
    "plt.legend()\n",
    "\n",
    "# Add axis labels and title\n",
    "plt.xlabel('x')\n",
    "plt.ylabel('y')\n",
    "plt.title('Sine and Cosine Curves')\n",
    "\n",
    "# Show the plot\n",
    "plt.show()\n"
   ]
  },
  {
   "cell_type": "code",
   "execution_count": 3,
   "id": "d8dbb0b4",
   "metadata": {},
   "outputs": [],
   "source": [
    "import numpy as np\n",
    "import pylab\n",
    "import healpy as hp\n",
    "import pysm3 \n",
    "import pysm3.units as u\n",
    "import cmbdb as cmb\n",
    "from fgbuster import *"
   ]
  },
  {
   "cell_type": "code",
   "execution_count": 4,
   "id": "de6ed99d",
   "metadata": {},
   "outputs": [
    {
     "name": "stdout",
     "output_type": "stream",
     "text": [
      "(3, 49152)\n"
     ]
    }
   ],
   "source": [
    "NSIDE = 64\n",
    "sky_simple = get_sky(NSIDE, 'c1d0s0') \n",
    "instrument = get_instrument('LiteBIRD')\n",
    "map_100GHz = sky_simple.get_emission(100 * u.GHz)\n",
    "print(map_100GHz.shape)\n"
   ]
  },
  {
   "cell_type": "code",
   "execution_count": 13,
   "id": "8f3765eb",
   "metadata": {},
   "outputs": [
    {
     "data": {
      "text/plain": [
       "12.0"
      ]
     },
     "execution_count": 13,
     "metadata": {},
     "output_type": "execute_result"
    }
   ],
   "source": [
    "map_100GHz[1].size/(NSIDE*NSIDE)\n"
   ]
  },
  {
   "cell_type": "code",
   "execution_count": 6,
   "id": "9f3f5d6a",
   "metadata": {},
   "outputs": [
    {
     "name": "stdout",
     "output_type": "stream",
     "text": [
      "(15,)\n",
      "15\n"
     ]
    }
   ],
   "source": [
    "fwhm = instrument.fwhm\n",
    "freq = instrument.frequency\n",
    "num_freq = np.size(freq)\n",
    "print(fwhm.shape)\n",
    "print(num_freq)\n"
   ]
  },
  {
   "cell_type": "code",
   "execution_count": 21,
   "id": "f4b8aa9b",
   "metadata": {},
   "outputs": [
    {
     "name": "stdout",
     "output_type": "stream",
     "text": [
      "(15, 513) (15,)\n"
     ]
    }
   ],
   "source": [
    "fwhm.shape\n",
    "beam_array = np.array([hp.gauss_beam(f) for f in fwhm])\n",
    "print(beam_array.shape, freq.shape)"
   ]
  },
  {
   "cell_type": "code",
   "execution_count": 25,
   "id": "7822a0d6",
   "metadata": {},
   "outputs": [
    {
     "ename": "TypeError",
     "evalue": "beam2bl() missing 1 required positional argument: 'theta'",
     "output_type": "error",
     "traceback": [
      "\u001b[0;31m---------------------------------------------------------------------------\u001b[0m",
      "\u001b[0;31mTypeError\u001b[0m                                 Traceback (most recent call last)",
      "\u001b[0;32m/tmp/ipykernel_10686/1058611411.py\u001b[0m in \u001b[0;36m<module>\u001b[0;34m\u001b[0m\n\u001b[0;32m----> 1\u001b[0;31m \u001b[0mb_l_arr\u001b[0m\u001b[0;34m=\u001b[0m \u001b[0mnp\u001b[0m\u001b[0;34m.\u001b[0m\u001b[0marray\u001b[0m\u001b[0;34m(\u001b[0m\u001b[0;34m[\u001b[0m\u001b[0mhp\u001b[0m\u001b[0;34m.\u001b[0m\u001b[0mbeam2bl\u001b[0m\u001b[0;34m(\u001b[0m\u001b[0mbeam_array\u001b[0m\u001b[0;34m[\u001b[0m\u001b[0mi\u001b[0m\u001b[0;34m]\u001b[0m\u001b[0;34m,\u001b[0m\u001b[0mlmax\u001b[0m \u001b[0;34m=\u001b[0m \u001b[0;36m512\u001b[0m\u001b[0;34m)\u001b[0m \u001b[0;32mfor\u001b[0m \u001b[0mi\u001b[0m \u001b[0;32min\u001b[0m \u001b[0mrange\u001b[0m\u001b[0;34m(\u001b[0m\u001b[0;36m0\u001b[0m\u001b[0;34m,\u001b[0m\u001b[0mnum_freq\u001b[0m\u001b[0;34m)\u001b[0m\u001b[0;34m]\u001b[0m\u001b[0;34m)\u001b[0m\u001b[0;34m\u001b[0m\u001b[0;34m\u001b[0m\u001b[0m\n\u001b[0m\u001b[1;32m      2\u001b[0m \u001b[0mprint\u001b[0m\u001b[0;34m(\u001b[0m\u001b[0mb_l_arr\u001b[0m\u001b[0;34m.\u001b[0m\u001b[0mshape\u001b[0m\u001b[0;34m)\u001b[0m\u001b[0;34m\u001b[0m\u001b[0;34m\u001b[0m\u001b[0m\n",
      "\u001b[0;32m/tmp/ipykernel_10686/1058611411.py\u001b[0m in \u001b[0;36m<listcomp>\u001b[0;34m(.0)\u001b[0m\n\u001b[0;32m----> 1\u001b[0;31m \u001b[0mb_l_arr\u001b[0m\u001b[0;34m=\u001b[0m \u001b[0mnp\u001b[0m\u001b[0;34m.\u001b[0m\u001b[0marray\u001b[0m\u001b[0;34m(\u001b[0m\u001b[0;34m[\u001b[0m\u001b[0mhp\u001b[0m\u001b[0;34m.\u001b[0m\u001b[0mbeam2bl\u001b[0m\u001b[0;34m(\u001b[0m\u001b[0mbeam_array\u001b[0m\u001b[0;34m[\u001b[0m\u001b[0mi\u001b[0m\u001b[0;34m]\u001b[0m\u001b[0;34m,\u001b[0m\u001b[0mlmax\u001b[0m \u001b[0;34m=\u001b[0m \u001b[0;36m512\u001b[0m\u001b[0;34m)\u001b[0m \u001b[0;32mfor\u001b[0m \u001b[0mi\u001b[0m \u001b[0;32min\u001b[0m \u001b[0mrange\u001b[0m\u001b[0;34m(\u001b[0m\u001b[0;36m0\u001b[0m\u001b[0;34m,\u001b[0m\u001b[0mnum_freq\u001b[0m\u001b[0;34m)\u001b[0m\u001b[0;34m]\u001b[0m\u001b[0;34m)\u001b[0m\u001b[0;34m\u001b[0m\u001b[0;34m\u001b[0m\u001b[0m\n\u001b[0m\u001b[1;32m      2\u001b[0m \u001b[0mprint\u001b[0m\u001b[0;34m(\u001b[0m\u001b[0mb_l_arr\u001b[0m\u001b[0;34m.\u001b[0m\u001b[0mshape\u001b[0m\u001b[0;34m)\u001b[0m\u001b[0;34m\u001b[0m\u001b[0;34m\u001b[0m\u001b[0m\n",
      "\u001b[0;31mTypeError\u001b[0m: beam2bl() missing 1 required positional argument: 'theta'"
     ]
    }
   ],
   "source": [
    "b_l_arr= np.array([hp.beam2bl(beam_array[i],lmax = 512) for i in range(0,num_freq)])\n",
    "print(b_l_arr.shape)"
   ]
  },
  {
   "cell_type": "code",
   "execution_count": 9,
   "id": "4eba0188",
   "metadata": {},
   "outputs": [
    {
     "data": {
      "text/plain": [
       "(3, 18528)"
      ]
     },
     "execution_count": 9,
     "metadata": {},
     "output_type": "execute_result"
    }
   ],
   "source": [
    "AS_lm = hp.map2alm(map_100GHz)\n",
    "AS_lm.shape"
   ]
  },
  {
   "attachments": {},
   "cell_type": "markdown",
   "id": "f57b3a83",
   "metadata": {},
   "source": [
    "$\\hat{d}_p=(B\\star As)_p$"
   ]
  },
  {
   "attachments": {},
   "cell_type": "markdown",
   "id": "2fd5adc9",
   "metadata": {},
   "source": []
  }
 ],
 "metadata": {
  "kernelspec": {
   "display_name": "Python 3 (ipykernel)",
   "language": "python",
   "name": "python3"
  },
  "language_info": {
   "codemirror_mode": {
    "name": "ipython",
    "version": 3
   },
   "file_extension": ".py",
   "mimetype": "text/x-python",
   "name": "python",
   "nbconvert_exporter": "python",
   "pygments_lexer": "ipython3",
   "version": "3.10.8"
  }
 },
 "nbformat": 4,
 "nbformat_minor": 5
}
